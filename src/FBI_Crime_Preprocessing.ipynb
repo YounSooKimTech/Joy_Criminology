{
  "nbformat": 4,
  "nbformat_minor": 0,
  "metadata": {
    "colab": {
      "provenance": [],
      "authorship_tag": "ABX9TyMeM0EQS6xKeW8k7W4QxtWF",
      "include_colab_link": true
    },
    "kernelspec": {
      "name": "python3",
      "display_name": "Python 3"
    },
    "language_info": {
      "name": "python"
    }
  },
  "cells": [
    {
      "cell_type": "markdown",
      "metadata": {
        "id": "view-in-github",
        "colab_type": "text"
      },
      "source": [
        "<a href=\"https://colab.research.google.com/github/YounSooKimTech/Joy_Criminology/blob/main/FBI_Crime_Preprocessing.ipynb\" target=\"_parent\"><img src=\"https://colab.research.google.com/assets/colab-badge.svg\" alt=\"Open In Colab\"/></a>"
      ]
    },
    {
      "cell_type": "code",
      "source": [
        "import pandas as pd\n",
        "\n",
        "def process_fbi_crime_data(filepath):\n",
        "    # Read the CSV file and skip the first 3 rows\n",
        "    df = pd.read_csv(filepath, skiprows=3)\n",
        "\n",
        "    # Remove unnecessary rows and columns\n",
        "    df = df.iloc[1:, :]\n",
        "    df = df.dropna(subset=[\"Year\"], axis=0, how='all')\n",
        "    df = df.fillna(method='ffill')\n",
        "    df = df.dropna(axis=1, how='any')\n",
        "    df = df.iloc[:, :-1]\n",
        "\n",
        "    # Remove the \"Percent change\" rows\n",
        "    df = df[df[\"Year\"] != \"Percent change\"]\n",
        "\n",
        "    # Get the state names only\n",
        "    df[\"Area\"] = df[\"Area\"].str.replace(r'^\\s+', '').str.replace(r'\\d*$', '', regex=True)\n",
        "\n",
        "    # Rename columns\n",
        "    df.columns = df.columns.str.replace(r'\\d*$', '', regex=True)\n",
        "\n",
        "    # Remove digit separators\n",
        "    df = df.apply(lambda x: x.str.replace(',', ''))\n",
        "\n",
        "    new_columns = []\n",
        "    for i, col in enumerate(df.columns):\n",
        "        if col.startswith('Unnamed:'):\n",
        "            # Get the value from the left column\n",
        "            left_col = df.columns[i - 1]\n",
        "            # Add \"per 100K\" to the value\n",
        "            new_col_name = left_col + \"_per_100K\"\n",
        "            new_columns.append(new_col_name)\n",
        "        else:\n",
        "            new_columns.append(col)\n",
        "    df.columns = new_columns\n",
        "    df.columns = df.columns.str.replace(\" \", \"_\").str.replace(\"-\", \"_\")\n",
        "\n",
        "    # Convert numeric columns to numeric data types\n",
        "    columns_to_convert = df.columns.tolist()[2:]\n",
        "    df[columns_to_convert] = df[columns_to_convert].apply(pd.to_numeric, errors='coerce')\n",
        "\n",
        "    return df\n",
        "\n",
        "file_list = []\n",
        "\n",
        "for a_year in range(2005, 2020, 2):\n",
        "  filepath = f\"/content/FBI_Crime_Table4_{a_year}.csv\"\n",
        "  new_df_name = f\"df_{a_year}\"\n",
        "  new_df_name = process_fbi_crime_data(filepath)\n",
        "  #print(new_df_name.columns)\n",
        "  file_list.append(new_df_name)\n"
      ],
      "metadata": {
        "colab": {
          "base_uri": "https://localhost:8080/"
        },
        "id": "oKTlXRp35dgW",
        "outputId": "0db06598-8c9a-4fe8-a0e0-cb5cb7b1d4b2"
      },
      "execution_count": 1,
      "outputs": [
        {
          "output_type": "stream",
          "name": "stderr",
          "text": [
            "<ipython-input-1-059479b9e97f>:18: FutureWarning: The default value of regex will change from True to False in a future version.\n",
            "  df[\"Area\"] = df[\"Area\"].str.replace(r'^\\s+', '').str.replace(r'\\d*$', '', regex=True)\n",
            "<ipython-input-1-059479b9e97f>:18: FutureWarning: The default value of regex will change from True to False in a future version.\n",
            "  df[\"Area\"] = df[\"Area\"].str.replace(r'^\\s+', '').str.replace(r'\\d*$', '', regex=True)\n",
            "<ipython-input-1-059479b9e97f>:18: FutureWarning: The default value of regex will change from True to False in a future version.\n",
            "  df[\"Area\"] = df[\"Area\"].str.replace(r'^\\s+', '').str.replace(r'\\d*$', '', regex=True)\n",
            "<ipython-input-1-059479b9e97f>:18: FutureWarning: The default value of regex will change from True to False in a future version.\n",
            "  df[\"Area\"] = df[\"Area\"].str.replace(r'^\\s+', '').str.replace(r'\\d*$', '', regex=True)\n",
            "<ipython-input-1-059479b9e97f>:18: FutureWarning: The default value of regex will change from True to False in a future version.\n",
            "  df[\"Area\"] = df[\"Area\"].str.replace(r'^\\s+', '').str.replace(r'\\d*$', '', regex=True)\n",
            "<ipython-input-1-059479b9e97f>:18: FutureWarning: The default value of regex will change from True to False in a future version.\n",
            "  df[\"Area\"] = df[\"Area\"].str.replace(r'^\\s+', '').str.replace(r'\\d*$', '', regex=True)\n",
            "<ipython-input-1-059479b9e97f>:18: FutureWarning: The default value of regex will change from True to False in a future version.\n",
            "  df[\"Area\"] = df[\"Area\"].str.replace(r'^\\s+', '').str.replace(r'\\d*$', '', regex=True)\n",
            "<ipython-input-1-059479b9e97f>:18: FutureWarning: The default value of regex will change from True to False in a future version.\n",
            "  df[\"Area\"] = df[\"Area\"].str.replace(r'^\\s+', '').str.replace(r'\\d*$', '', regex=True)\n"
          ]
        }
      ]
    },
    {
      "cell_type": "code",
      "source": [
        "df_merged_late = pd.concat(file_list)"
      ],
      "metadata": {
        "id": "_GdFlsGH58tb"
      },
      "execution_count": 2,
      "outputs": []
    },
    {
      "cell_type": "markdown",
      "source": [
        "# FBI in different format"
      ],
      "metadata": {
        "id": "FUfDrKJ7BH3Y"
      }
    },
    {
      "cell_type": "code",
      "source": [
        "! pip install us"
      ],
      "metadata": {
        "colab": {
          "base_uri": "https://localhost:8080/"
        },
        "id": "8KOyzrwB61R_",
        "outputId": "eeb86004-4b41-4e3d-a5b0-011946dd381c"
      },
      "execution_count": 3,
      "outputs": [
        {
          "output_type": "stream",
          "name": "stdout",
          "text": [
            "Collecting us\n",
            "  Downloading us-3.1.1.tar.gz (14 kB)\n",
            "  Preparing metadata (setup.py) ... \u001b[?25l\u001b[?25hdone\n",
            "Collecting jellyfish==0.11.2 (from us)\n",
            "  Downloading jellyfish-0.11.2-cp310-cp310-manylinux_2_17_x86_64.manylinux2014_x86_64.whl (1.2 MB)\n",
            "\u001b[2K     \u001b[90m━━━━━━━━━━━━━━━━━━━━━━━━━━━━━━━━━━━━━━━━\u001b[0m \u001b[32m1.2/1.2 MB\u001b[0m \u001b[31m5.9 MB/s\u001b[0m eta \u001b[36m0:00:00\u001b[0m\n",
            "\u001b[?25hBuilding wheels for collected packages: us\n",
            "  Building wheel for us (setup.py) ... \u001b[?25l\u001b[?25hdone\n",
            "  Created wheel for us: filename=us-3.1.1-py3-none-any.whl size=12547 sha256=64c19679ea14d585ef3b621e4f4c5f47b8d3117d92f06e60499c32c6c27a1c7c\n",
            "  Stored in directory: /root/.cache/pip/wheels/da/f9/64/9669135a7ce533faf78e3b32259c505f964f03b069be6844f8\n",
            "Successfully built us\n",
            "Installing collected packages: jellyfish, us\n",
            "Successfully installed jellyfish-0.11.2 us-3.1.1\n"
          ]
        }
      ]
    },
    {
      "cell_type": "code",
      "source": [
        "import us\n",
        "us_states = [state.name for state in us.states.STATES]\n",
        "us_states.append(\"District of Columbia\")\n",
        "\n",
        "us_states_upper = [state.upper() for state in us_states]\n",
        "us_states_upper.append(\"State Total\")"
      ],
      "metadata": {
        "id": "ErzQayDO6vvJ"
      },
      "execution_count": 4,
      "outputs": []
    },
    {
      "cell_type": "code",
      "source": [
        "import pandas as pd\n",
        "\n",
        "filepath = \"/content/FBI_Crime_Table3_2003.csv\"\n",
        "df = pd.read_csv(filepath, skiprows=3)\n",
        "\n",
        "df[\"Area\"] = df[\"Area\"].str.replace(r'\\d', \"\", regex=True)\n",
        "\n",
        "temp = df[df[\"Area\"].isin(us_states_upper)]\n",
        "temp[\"Area\"] = temp[\"Area\"].str.replace(\"State Total\", \"NA\")\n",
        "temp['Area'] = temp['Area'].replace(\"NA\", method='ffill')\n",
        "temp = temp.drop_duplicates(subset=\"Area\", keep=\"last\")\n",
        "\n",
        "temp = temp.loc[:, ~temp.columns.str.contains('Unnamed:')]\n",
        "temp.columns = temp.columns.str.replace(r'\\d*$', '', regex=True)\n",
        "temp.columns = temp.columns.str.replace(\" \", \"_\").str.replace(\"-\", \"_\")\n",
        "temp[\"Year\"] = 2003\n",
        "temp\n",
        "df_2003 = temp"
      ],
      "metadata": {
        "colab": {
          "base_uri": "https://localhost:8080/"
        },
        "id": "PTlsuNi90CPo",
        "outputId": "fc44c798-9632-442e-9f60-a2c1882400b3"
      },
      "execution_count": 5,
      "outputs": [
        {
          "output_type": "stream",
          "name": "stderr",
          "text": [
            "<ipython-input-5-7ab1ba3db967>:9: SettingWithCopyWarning: \n",
            "A value is trying to be set on a copy of a slice from a DataFrame.\n",
            "Try using .loc[row_indexer,col_indexer] = value instead\n",
            "\n",
            "See the caveats in the documentation: https://pandas.pydata.org/pandas-docs/stable/user_guide/indexing.html#returning-a-view-versus-a-copy\n",
            "  temp[\"Area\"] = temp[\"Area\"].str.replace(\"State Total\", \"NA\")\n",
            "<ipython-input-5-7ab1ba3db967>:10: SettingWithCopyWarning: \n",
            "A value is trying to be set on a copy of a slice from a DataFrame.\n",
            "Try using .loc[row_indexer,col_indexer] = value instead\n",
            "\n",
            "See the caveats in the documentation: https://pandas.pydata.org/pandas-docs/stable/user_guide/indexing.html#returning-a-view-versus-a-copy\n",
            "  temp['Area'] = temp['Area'].replace(\"NA\", method='ffill')\n"
          ]
        }
      ]
    },
    {
      "cell_type": "code",
      "source": [
        "import pandas as pd\n",
        "\n",
        "filepath = \"/content/FBI_Crime_Table3_2002.csv\"\n",
        "df = pd.read_csv(filepath, skiprows=3)\n",
        "\n",
        "df[\"Area\"] = df[\"Area\"].str.replace(r'\\d', \"\", regex=True)\n",
        "\n",
        "temp = df[df[\"Area\"].isin(us_states_upper)]\n",
        "temp[\"Area\"] = temp[\"Area\"].str.replace(\"State Total\", \"NA\")\n",
        "temp['Area'] = temp['Area'].replace(\"NA\", method='ffill')\n",
        "temp = temp.drop_duplicates(subset=\"Area\", keep=\"last\")\n",
        "\n",
        "temp = temp.loc[:, ~temp.columns.str.contains('Unnamed:')]\n",
        "temp.columns = temp.columns.str.replace(r'\\d*$', '', regex=True)\n",
        "temp.columns = temp.columns.str.replace(\" \", \"_\").str.replace(\"-\", \"_\")\n",
        "temp[\"Year\"] = 2002\n",
        "\n",
        "df_2002 = temp"
      ],
      "metadata": {
        "colab": {
          "base_uri": "https://localhost:8080/"
        },
        "id": "QWU6UxXT0CM2",
        "outputId": "42d4e67b-8602-4331-8f93-4665a404c099"
      },
      "execution_count": 6,
      "outputs": [
        {
          "output_type": "stream",
          "name": "stderr",
          "text": [
            "<ipython-input-6-947079e67586>:9: SettingWithCopyWarning: \n",
            "A value is trying to be set on a copy of a slice from a DataFrame.\n",
            "Try using .loc[row_indexer,col_indexer] = value instead\n",
            "\n",
            "See the caveats in the documentation: https://pandas.pydata.org/pandas-docs/stable/user_guide/indexing.html#returning-a-view-versus-a-copy\n",
            "  temp[\"Area\"] = temp[\"Area\"].str.replace(\"State Total\", \"NA\")\n",
            "<ipython-input-6-947079e67586>:10: SettingWithCopyWarning: \n",
            "A value is trying to be set on a copy of a slice from a DataFrame.\n",
            "Try using .loc[row_indexer,col_indexer] = value instead\n",
            "\n",
            "See the caveats in the documentation: https://pandas.pydata.org/pandas-docs/stable/user_guide/indexing.html#returning-a-view-versus-a-copy\n",
            "  temp['Area'] = temp['Area'].replace(\"NA\", method='ffill')\n"
          ]
        }
      ]
    },
    {
      "cell_type": "code",
      "source": [
        "import pandas as pd\n",
        "\n",
        "filepath = \"/content/FBI_Crime_Table3_2001.csv\"\n",
        "df = pd.read_csv(filepath, skiprows=4)\n",
        "\n",
        "df[\"Area\"] = df[\"Area\"].str.replace(r'\\d', \"\", regex=True)\n",
        "\n",
        "temp = df[df[\"Area\"].isin(us_states_upper)]\n",
        "temp[\"Area\"] = temp[\"Area\"].str.replace(\"State Total\", \"NA\")\n",
        "temp['Area'] = temp['Area'].replace(\"NA\", method='ffill')\n",
        "temp = temp.drop_duplicates(subset=\"Area\", keep=\"last\")\n",
        "\n",
        "temp = temp.loc[:, ~temp.columns.str.contains('Unnamed:')]\n",
        "temp.columns = temp.columns.str.replace(r'\\d*$', '', regex=True)\n",
        "temp.columns = temp.columns.str.replace(\" \", \"_\").str.replace(\"-\", \"_\")\n",
        "temp[\"Year\"] = 2001\n",
        "\n",
        "df_2001 = temp"
      ],
      "metadata": {
        "colab": {
          "base_uri": "https://localhost:8080/"
        },
        "id": "werLiH72-qrz",
        "outputId": "c81b6089-6c9d-4438-e6cd-49810484b656"
      },
      "execution_count": 7,
      "outputs": [
        {
          "output_type": "stream",
          "name": "stderr",
          "text": [
            "<ipython-input-7-34033546fab8>:9: SettingWithCopyWarning: \n",
            "A value is trying to be set on a copy of a slice from a DataFrame.\n",
            "Try using .loc[row_indexer,col_indexer] = value instead\n",
            "\n",
            "See the caveats in the documentation: https://pandas.pydata.org/pandas-docs/stable/user_guide/indexing.html#returning-a-view-versus-a-copy\n",
            "  temp[\"Area\"] = temp[\"Area\"].str.replace(\"State Total\", \"NA\")\n",
            "<ipython-input-7-34033546fab8>:10: SettingWithCopyWarning: \n",
            "A value is trying to be set on a copy of a slice from a DataFrame.\n",
            "Try using .loc[row_indexer,col_indexer] = value instead\n",
            "\n",
            "See the caveats in the documentation: https://pandas.pydata.org/pandas-docs/stable/user_guide/indexing.html#returning-a-view-versus-a-copy\n",
            "  temp['Area'] = temp['Area'].replace(\"NA\", method='ffill')\n"
          ]
        }
      ]
    },
    {
      "cell_type": "code",
      "source": [
        "import pandas as pd\n",
        "\n",
        "filepath = \"/content/FBI_Crime_Table3_2000.csv\"\n",
        "df = pd.read_csv(filepath, skiprows=3)\n",
        "\n",
        "df[\"Area\"] = df[\"Area\"].str.replace(r'\\d', \"\", regex=True)\n",
        "\n",
        "temp = df[df[\"Area\"].isin(us_states_upper)]\n",
        "temp[\"Area\"] = temp[\"Area\"].str.replace(\"State Total\", \"NA\")\n",
        "temp['Area'] = temp['Area'].replace(\"NA\", method='ffill')\n",
        "temp = temp.drop_duplicates(subset=\"Area\", keep=\"last\")\n",
        "\n",
        "temp = temp.loc[:, ~temp.columns.str.contains('Unnamed:')]\n",
        "temp.columns = temp.columns.str.replace(r'\\d*$', '', regex=True)\n",
        "temp.columns = temp.columns.str.replace(\" \", \"_\").str.replace(\"-\", \"_\")\n",
        "temp[\"Year\"] = 2000\n",
        "\n",
        "df_2000 = temp"
      ],
      "metadata": {
        "colab": {
          "base_uri": "https://localhost:8080/"
        },
        "id": "vxBUQilP_q_J",
        "outputId": "a286cdb2-dec7-4739-fda4-a10a3338e161"
      },
      "execution_count": 8,
      "outputs": [
        {
          "output_type": "stream",
          "name": "stderr",
          "text": [
            "<ipython-input-8-67404b43cee4>:9: SettingWithCopyWarning: \n",
            "A value is trying to be set on a copy of a slice from a DataFrame.\n",
            "Try using .loc[row_indexer,col_indexer] = value instead\n",
            "\n",
            "See the caveats in the documentation: https://pandas.pydata.org/pandas-docs/stable/user_guide/indexing.html#returning-a-view-versus-a-copy\n",
            "  temp[\"Area\"] = temp[\"Area\"].str.replace(\"State Total\", \"NA\")\n",
            "<ipython-input-8-67404b43cee4>:10: SettingWithCopyWarning: \n",
            "A value is trying to be set on a copy of a slice from a DataFrame.\n",
            "Try using .loc[row_indexer,col_indexer] = value instead\n",
            "\n",
            "See the caveats in the documentation: https://pandas.pydata.org/pandas-docs/stable/user_guide/indexing.html#returning-a-view-versus-a-copy\n",
            "  temp['Area'] = temp['Area'].replace(\"NA\", method='ffill')\n"
          ]
        }
      ]
    },
    {
      "cell_type": "markdown",
      "source": [
        "# Merge and clean the dataset"
      ],
      "metadata": {
        "id": "intaKW_IR4R-"
      }
    },
    {
      "cell_type": "code",
      "source": [
        "df_merged_early = pd.concat([df_2000, df_2001, df_2002, df_2003])\n",
        "\n",
        "df_merged_early\n",
        "\n",
        "crime_columns = ['Violent_crime', 'Murder', 'Rape', 'Robbery', 'Aggravated_assault',\n",
        "                 'Property_crime', 'Burglary', 'Larceny_theft', 'Motor_vehicle_theft']\n",
        "columns_to_convert = df_merged_early.columns.tolist()[1:]\n",
        "df_merged_early[columns_to_convert] = df_merged_early[columns_to_convert].apply(pd.to_numeric, errors='coerce')\n",
        "\n",
        "for column in crime_columns:\n",
        "    per_100K_column_name = f'{column}_per_100K'\n",
        "    df_merged_early[per_100K_column_name] = (df_merged_early[column] / df_merged_early['Population']) * 100000\n",
        "\n",
        "\n",
        "col_orders = df_merged_late.columns.tolist()[:-4]\n",
        "\n",
        "df_merged_early = df_merged_early[col_orders]\n",
        "\n",
        "df_merged_early = round(df_merged_early, 2)"
      ],
      "metadata": {
        "id": "Xluue9SM_5QX"
      },
      "execution_count": 9,
      "outputs": []
    },
    {
      "cell_type": "code",
      "source": [
        "df_merged_early[\"Area\"] = df_merged_early[\"Area\"].str.title()"
      ],
      "metadata": {
        "id": "aSk9_TxkF5VF"
      },
      "execution_count": 10,
      "outputs": []
    },
    {
      "cell_type": "code",
      "source": [
        "new_rape_concept = df_merged_late[df_merged_late[\"Rape\"].isnull()]\n",
        "old_rape_concept = df_merged_late[~df_merged_late[\"Rape\"].isnull()]\n",
        "\n",
        "new_rape_concept.fillna(0, inplace=True)\n",
        "new_rape_concept[\"Rape\"] =  new_rape_concept[\"Rape_revised\"] + new_rape_concept[\"Rape_legacy\"]\n",
        "new_rape_concept[\"Rape_per_100K\"] = new_rape_concept[\"Rape\"]/new_rape_concept[\"Population\"] * 100 * 1000"
      ],
      "metadata": {
        "colab": {
          "base_uri": "https://localhost:8080/"
        },
        "id": "jxRNWGLzDMT8",
        "outputId": "d6d9ed40-80cd-425a-a0c0-0fbcb1fcedef"
      },
      "execution_count": 11,
      "outputs": [
        {
          "output_type": "stream",
          "name": "stderr",
          "text": [
            "<ipython-input-11-978dd76602ca>:4: SettingWithCopyWarning: \n",
            "A value is trying to be set on a copy of a slice from a DataFrame\n",
            "\n",
            "See the caveats in the documentation: https://pandas.pydata.org/pandas-docs/stable/user_guide/indexing.html#returning-a-view-versus-a-copy\n",
            "  new_rape_concept.fillna(0, inplace=True)\n",
            "<ipython-input-11-978dd76602ca>:5: SettingWithCopyWarning: \n",
            "A value is trying to be set on a copy of a slice from a DataFrame.\n",
            "Try using .loc[row_indexer,col_indexer] = value instead\n",
            "\n",
            "See the caveats in the documentation: https://pandas.pydata.org/pandas-docs/stable/user_guide/indexing.html#returning-a-view-versus-a-copy\n",
            "  new_rape_concept[\"Rape\"] =  new_rape_concept[\"Rape_revised\"] + new_rape_concept[\"Rape_legacy\"]\n",
            "<ipython-input-11-978dd76602ca>:6: SettingWithCopyWarning: \n",
            "A value is trying to be set on a copy of a slice from a DataFrame.\n",
            "Try using .loc[row_indexer,col_indexer] = value instead\n",
            "\n",
            "See the caveats in the documentation: https://pandas.pydata.org/pandas-docs/stable/user_guide/indexing.html#returning-a-view-versus-a-copy\n",
            "  new_rape_concept[\"Rape_per_100K\"] = new_rape_concept[\"Rape\"]/new_rape_concept[\"Population\"] * 100 * 1000\n"
          ]
        }
      ]
    },
    {
      "cell_type": "code",
      "source": [
        "old_rape_concept[\"Area\"] = old_rape_concept[\"Area\"].str.replace(r'\\d', '', regex=True).str.title().str.strip()\n",
        "new_rape_concept[\"Area\"] = new_rape_concept[\"Area\"].str.replace(r'\\d', '', regex=True).str.title().str.strip()\n",
        "\n",
        "string_to_exclude = [\"United States Total\",\"West\", \"East South Central\",\n",
        "                     \"West South Central\", \"Mountain\", \"Northeast\",\n",
        "                     \"Pacific\", \"Middle Atlantic\", \"Midwest\", \"East North Central\",\n",
        "                     \"West North Central\", \"South Atlantic\", \"South\", \"New England\", \"Mountain.\"]\n",
        "\n",
        "old_rape_concept = old_rape_concept[~old_rape_concept[\"Area\"].isin(string_to_exclude)]\n",
        "new_rape_concept = new_rape_concept[~new_rape_concept[\"Area\"].isin(string_to_exclude)]"
      ],
      "metadata": {
        "colab": {
          "base_uri": "https://localhost:8080/"
        },
        "id": "AJOw-F-3GM1H",
        "outputId": "7f770ded-f678-4f73-dfc5-72b8cd7a726c"
      },
      "execution_count": 12,
      "outputs": [
        {
          "output_type": "stream",
          "name": "stderr",
          "text": [
            "<ipython-input-12-98db6a20418a>:1: SettingWithCopyWarning: \n",
            "A value is trying to be set on a copy of a slice from a DataFrame.\n",
            "Try using .loc[row_indexer,col_indexer] = value instead\n",
            "\n",
            "See the caveats in the documentation: https://pandas.pydata.org/pandas-docs/stable/user_guide/indexing.html#returning-a-view-versus-a-copy\n",
            "  old_rape_concept[\"Area\"] = old_rape_concept[\"Area\"].str.replace(r'\\d', '', regex=True).str.title().str.strip()\n",
            "<ipython-input-12-98db6a20418a>:2: SettingWithCopyWarning: \n",
            "A value is trying to be set on a copy of a slice from a DataFrame.\n",
            "Try using .loc[row_indexer,col_indexer] = value instead\n",
            "\n",
            "See the caveats in the documentation: https://pandas.pydata.org/pandas-docs/stable/user_guide/indexing.html#returning-a-view-versus-a-copy\n",
            "  new_rape_concept[\"Area\"] = new_rape_concept[\"Area\"].str.replace(r'\\d', '', regex=True).str.title().str.strip()\n"
          ]
        }
      ]
    },
    {
      "cell_type": "code",
      "source": [
        "new_rape_concept[\"Area\"].value_counts().reset_index()"
      ],
      "metadata": {
        "colab": {
          "base_uri": "https://localhost:8080/",
          "height": 1000
        },
        "id": "Y-JqFvODGCZO",
        "outputId": "7f0c9854-43bc-4050-ee70-3b40bab36cbe"
      },
      "execution_count": 13,
      "outputs": [
        {
          "output_type": "execute_result",
          "data": {
            "text/plain": [
              "                   index  Area\n",
              "0            Connecticut     9\n",
              "1                  Maine     9\n",
              "2               Virginia     9\n",
              "3          West Virginia     9\n",
              "4                Alabama     9\n",
              "5               Kentucky     9\n",
              "6            Mississippi     9\n",
              "7              Tennessee     9\n",
              "8               Arkansas     9\n",
              "9              Louisiana     9\n",
              "10              Oklahoma     9\n",
              "11                 Texas     9\n",
              "12               Arizona     9\n",
              "13              Colorado     9\n",
              "14                 Idaho     9\n",
              "15               Montana     9\n",
              "16                Nevada     9\n",
              "17            New Mexico     9\n",
              "18                  Utah     9\n",
              "19               Wyoming     9\n",
              "20                Alaska     9\n",
              "21            California     9\n",
              "22                Hawaii     9\n",
              "23                Oregon     9\n",
              "24            Washington     9\n",
              "25        South Carolina     9\n",
              "26        North Carolina     9\n",
              "27              Maryland     9\n",
              "28                  Ohio     9\n",
              "29         Massachusetts     9\n",
              "30         New Hampshire     9\n",
              "31          Rhode Island     9\n",
              "32               Vermont     9\n",
              "33            New Jersey     9\n",
              "34              New York     9\n",
              "35          Pennsylvania     9\n",
              "36              Illinois     9\n",
              "37               Indiana     9\n",
              "38              Michigan     9\n",
              "39             Wisconsin     9\n",
              "40               Georgia     9\n",
              "41                  Iowa     9\n",
              "42                Kansas     9\n",
              "43             Minnesota     9\n",
              "44              Missouri     9\n",
              "45              Nebraska     9\n",
              "46          North Dakota     9\n",
              "47          South Dakota     9\n",
              "48              Delaware     9\n",
              "49  District Of Columbia     9\n",
              "50               Florida     9\n",
              "51           Puerto Rico     9"
            ],
            "text/html": [
              "\n",
              "  <div id=\"df-beffc20e-53bc-437c-9e64-13c54ce11a96\" class=\"colab-df-container\">\n",
              "    <div>\n",
              "<style scoped>\n",
              "    .dataframe tbody tr th:only-of-type {\n",
              "        vertical-align: middle;\n",
              "    }\n",
              "\n",
              "    .dataframe tbody tr th {\n",
              "        vertical-align: top;\n",
              "    }\n",
              "\n",
              "    .dataframe thead th {\n",
              "        text-align: right;\n",
              "    }\n",
              "</style>\n",
              "<table border=\"1\" class=\"dataframe\">\n",
              "  <thead>\n",
              "    <tr style=\"text-align: right;\">\n",
              "      <th></th>\n",
              "      <th>index</th>\n",
              "      <th>Area</th>\n",
              "    </tr>\n",
              "  </thead>\n",
              "  <tbody>\n",
              "    <tr>\n",
              "      <th>0</th>\n",
              "      <td>Connecticut</td>\n",
              "      <td>9</td>\n",
              "    </tr>\n",
              "    <tr>\n",
              "      <th>1</th>\n",
              "      <td>Maine</td>\n",
              "      <td>9</td>\n",
              "    </tr>\n",
              "    <tr>\n",
              "      <th>2</th>\n",
              "      <td>Virginia</td>\n",
              "      <td>9</td>\n",
              "    </tr>\n",
              "    <tr>\n",
              "      <th>3</th>\n",
              "      <td>West Virginia</td>\n",
              "      <td>9</td>\n",
              "    </tr>\n",
              "    <tr>\n",
              "      <th>4</th>\n",
              "      <td>Alabama</td>\n",
              "      <td>9</td>\n",
              "    </tr>\n",
              "    <tr>\n",
              "      <th>5</th>\n",
              "      <td>Kentucky</td>\n",
              "      <td>9</td>\n",
              "    </tr>\n",
              "    <tr>\n",
              "      <th>6</th>\n",
              "      <td>Mississippi</td>\n",
              "      <td>9</td>\n",
              "    </tr>\n",
              "    <tr>\n",
              "      <th>7</th>\n",
              "      <td>Tennessee</td>\n",
              "      <td>9</td>\n",
              "    </tr>\n",
              "    <tr>\n",
              "      <th>8</th>\n",
              "      <td>Arkansas</td>\n",
              "      <td>9</td>\n",
              "    </tr>\n",
              "    <tr>\n",
              "      <th>9</th>\n",
              "      <td>Louisiana</td>\n",
              "      <td>9</td>\n",
              "    </tr>\n",
              "    <tr>\n",
              "      <th>10</th>\n",
              "      <td>Oklahoma</td>\n",
              "      <td>9</td>\n",
              "    </tr>\n",
              "    <tr>\n",
              "      <th>11</th>\n",
              "      <td>Texas</td>\n",
              "      <td>9</td>\n",
              "    </tr>\n",
              "    <tr>\n",
              "      <th>12</th>\n",
              "      <td>Arizona</td>\n",
              "      <td>9</td>\n",
              "    </tr>\n",
              "    <tr>\n",
              "      <th>13</th>\n",
              "      <td>Colorado</td>\n",
              "      <td>9</td>\n",
              "    </tr>\n",
              "    <tr>\n",
              "      <th>14</th>\n",
              "      <td>Idaho</td>\n",
              "      <td>9</td>\n",
              "    </tr>\n",
              "    <tr>\n",
              "      <th>15</th>\n",
              "      <td>Montana</td>\n",
              "      <td>9</td>\n",
              "    </tr>\n",
              "    <tr>\n",
              "      <th>16</th>\n",
              "      <td>Nevada</td>\n",
              "      <td>9</td>\n",
              "    </tr>\n",
              "    <tr>\n",
              "      <th>17</th>\n",
              "      <td>New Mexico</td>\n",
              "      <td>9</td>\n",
              "    </tr>\n",
              "    <tr>\n",
              "      <th>18</th>\n",
              "      <td>Utah</td>\n",
              "      <td>9</td>\n",
              "    </tr>\n",
              "    <tr>\n",
              "      <th>19</th>\n",
              "      <td>Wyoming</td>\n",
              "      <td>9</td>\n",
              "    </tr>\n",
              "    <tr>\n",
              "      <th>20</th>\n",
              "      <td>Alaska</td>\n",
              "      <td>9</td>\n",
              "    </tr>\n",
              "    <tr>\n",
              "      <th>21</th>\n",
              "      <td>California</td>\n",
              "      <td>9</td>\n",
              "    </tr>\n",
              "    <tr>\n",
              "      <th>22</th>\n",
              "      <td>Hawaii</td>\n",
              "      <td>9</td>\n",
              "    </tr>\n",
              "    <tr>\n",
              "      <th>23</th>\n",
              "      <td>Oregon</td>\n",
              "      <td>9</td>\n",
              "    </tr>\n",
              "    <tr>\n",
              "      <th>24</th>\n",
              "      <td>Washington</td>\n",
              "      <td>9</td>\n",
              "    </tr>\n",
              "    <tr>\n",
              "      <th>25</th>\n",
              "      <td>South Carolina</td>\n",
              "      <td>9</td>\n",
              "    </tr>\n",
              "    <tr>\n",
              "      <th>26</th>\n",
              "      <td>North Carolina</td>\n",
              "      <td>9</td>\n",
              "    </tr>\n",
              "    <tr>\n",
              "      <th>27</th>\n",
              "      <td>Maryland</td>\n",
              "      <td>9</td>\n",
              "    </tr>\n",
              "    <tr>\n",
              "      <th>28</th>\n",
              "      <td>Ohio</td>\n",
              "      <td>9</td>\n",
              "    </tr>\n",
              "    <tr>\n",
              "      <th>29</th>\n",
              "      <td>Massachusetts</td>\n",
              "      <td>9</td>\n",
              "    </tr>\n",
              "    <tr>\n",
              "      <th>30</th>\n",
              "      <td>New Hampshire</td>\n",
              "      <td>9</td>\n",
              "    </tr>\n",
              "    <tr>\n",
              "      <th>31</th>\n",
              "      <td>Rhode Island</td>\n",
              "      <td>9</td>\n",
              "    </tr>\n",
              "    <tr>\n",
              "      <th>32</th>\n",
              "      <td>Vermont</td>\n",
              "      <td>9</td>\n",
              "    </tr>\n",
              "    <tr>\n",
              "      <th>33</th>\n",
              "      <td>New Jersey</td>\n",
              "      <td>9</td>\n",
              "    </tr>\n",
              "    <tr>\n",
              "      <th>34</th>\n",
              "      <td>New York</td>\n",
              "      <td>9</td>\n",
              "    </tr>\n",
              "    <tr>\n",
              "      <th>35</th>\n",
              "      <td>Pennsylvania</td>\n",
              "      <td>9</td>\n",
              "    </tr>\n",
              "    <tr>\n",
              "      <th>36</th>\n",
              "      <td>Illinois</td>\n",
              "      <td>9</td>\n",
              "    </tr>\n",
              "    <tr>\n",
              "      <th>37</th>\n",
              "      <td>Indiana</td>\n",
              "      <td>9</td>\n",
              "    </tr>\n",
              "    <tr>\n",
              "      <th>38</th>\n",
              "      <td>Michigan</td>\n",
              "      <td>9</td>\n",
              "    </tr>\n",
              "    <tr>\n",
              "      <th>39</th>\n",
              "      <td>Wisconsin</td>\n",
              "      <td>9</td>\n",
              "    </tr>\n",
              "    <tr>\n",
              "      <th>40</th>\n",
              "      <td>Georgia</td>\n",
              "      <td>9</td>\n",
              "    </tr>\n",
              "    <tr>\n",
              "      <th>41</th>\n",
              "      <td>Iowa</td>\n",
              "      <td>9</td>\n",
              "    </tr>\n",
              "    <tr>\n",
              "      <th>42</th>\n",
              "      <td>Kansas</td>\n",
              "      <td>9</td>\n",
              "    </tr>\n",
              "    <tr>\n",
              "      <th>43</th>\n",
              "      <td>Minnesota</td>\n",
              "      <td>9</td>\n",
              "    </tr>\n",
              "    <tr>\n",
              "      <th>44</th>\n",
              "      <td>Missouri</td>\n",
              "      <td>9</td>\n",
              "    </tr>\n",
              "    <tr>\n",
              "      <th>45</th>\n",
              "      <td>Nebraska</td>\n",
              "      <td>9</td>\n",
              "    </tr>\n",
              "    <tr>\n",
              "      <th>46</th>\n",
              "      <td>North Dakota</td>\n",
              "      <td>9</td>\n",
              "    </tr>\n",
              "    <tr>\n",
              "      <th>47</th>\n",
              "      <td>South Dakota</td>\n",
              "      <td>9</td>\n",
              "    </tr>\n",
              "    <tr>\n",
              "      <th>48</th>\n",
              "      <td>Delaware</td>\n",
              "      <td>9</td>\n",
              "    </tr>\n",
              "    <tr>\n",
              "      <th>49</th>\n",
              "      <td>District Of Columbia</td>\n",
              "      <td>9</td>\n",
              "    </tr>\n",
              "    <tr>\n",
              "      <th>50</th>\n",
              "      <td>Florida</td>\n",
              "      <td>9</td>\n",
              "    </tr>\n",
              "    <tr>\n",
              "      <th>51</th>\n",
              "      <td>Puerto Rico</td>\n",
              "      <td>9</td>\n",
              "    </tr>\n",
              "  </tbody>\n",
              "</table>\n",
              "</div>\n",
              "    <div class=\"colab-df-buttons\">\n",
              "\n",
              "  <div class=\"colab-df-container\">\n",
              "    <button class=\"colab-df-convert\" onclick=\"convertToInteractive('df-beffc20e-53bc-437c-9e64-13c54ce11a96')\"\n",
              "            title=\"Convert this dataframe to an interactive table.\"\n",
              "            style=\"display:none;\">\n",
              "\n",
              "  <svg xmlns=\"http://www.w3.org/2000/svg\" height=\"24px\" viewBox=\"0 -960 960 960\">\n",
              "    <path d=\"M120-120v-720h720v720H120Zm60-500h600v-160H180v160Zm220 220h160v-160H400v160Zm0 220h160v-160H400v160ZM180-400h160v-160H180v160Zm440 0h160v-160H620v160ZM180-180h160v-160H180v160Zm440 0h160v-160H620v160Z\"/>\n",
              "  </svg>\n",
              "    </button>\n",
              "\n",
              "  <style>\n",
              "    .colab-df-container {\n",
              "      display:flex;\n",
              "      gap: 12px;\n",
              "    }\n",
              "\n",
              "    .colab-df-convert {\n",
              "      background-color: #E8F0FE;\n",
              "      border: none;\n",
              "      border-radius: 50%;\n",
              "      cursor: pointer;\n",
              "      display: none;\n",
              "      fill: #1967D2;\n",
              "      height: 32px;\n",
              "      padding: 0 0 0 0;\n",
              "      width: 32px;\n",
              "    }\n",
              "\n",
              "    .colab-df-convert:hover {\n",
              "      background-color: #E2EBFA;\n",
              "      box-shadow: 0px 1px 2px rgba(60, 64, 67, 0.3), 0px 1px 3px 1px rgba(60, 64, 67, 0.15);\n",
              "      fill: #174EA6;\n",
              "    }\n",
              "\n",
              "    .colab-df-buttons div {\n",
              "      margin-bottom: 4px;\n",
              "    }\n",
              "\n",
              "    [theme=dark] .colab-df-convert {\n",
              "      background-color: #3B4455;\n",
              "      fill: #D2E3FC;\n",
              "    }\n",
              "\n",
              "    [theme=dark] .colab-df-convert:hover {\n",
              "      background-color: #434B5C;\n",
              "      box-shadow: 0px 1px 3px 1px rgba(0, 0, 0, 0.15);\n",
              "      filter: drop-shadow(0px 1px 2px rgba(0, 0, 0, 0.3));\n",
              "      fill: #FFFFFF;\n",
              "    }\n",
              "  </style>\n",
              "\n",
              "    <script>\n",
              "      const buttonEl =\n",
              "        document.querySelector('#df-beffc20e-53bc-437c-9e64-13c54ce11a96 button.colab-df-convert');\n",
              "      buttonEl.style.display =\n",
              "        google.colab.kernel.accessAllowed ? 'block' : 'none';\n",
              "\n",
              "      async function convertToInteractive(key) {\n",
              "        const element = document.querySelector('#df-beffc20e-53bc-437c-9e64-13c54ce11a96');\n",
              "        const dataTable =\n",
              "          await google.colab.kernel.invokeFunction('convertToInteractive',\n",
              "                                                    [key], {});\n",
              "        if (!dataTable) return;\n",
              "\n",
              "        const docLinkHtml = 'Like what you see? Visit the ' +\n",
              "          '<a target=\"_blank\" href=https://colab.research.google.com/notebooks/data_table.ipynb>data table notebook</a>'\n",
              "          + ' to learn more about interactive tables.';\n",
              "        element.innerHTML = '';\n",
              "        dataTable['output_type'] = 'display_data';\n",
              "        await google.colab.output.renderOutput(dataTable, element);\n",
              "        const docLink = document.createElement('div');\n",
              "        docLink.innerHTML = docLinkHtml;\n",
              "        element.appendChild(docLink);\n",
              "      }\n",
              "    </script>\n",
              "  </div>\n",
              "\n",
              "\n",
              "<div id=\"df-7b698be0-3bdc-4fc8-adf5-8e3d8b876cf0\">\n",
              "  <button class=\"colab-df-quickchart\" onclick=\"quickchart('df-7b698be0-3bdc-4fc8-adf5-8e3d8b876cf0')\"\n",
              "            title=\"Suggest charts\"\n",
              "            style=\"display:none;\">\n",
              "\n",
              "<svg xmlns=\"http://www.w3.org/2000/svg\" height=\"24px\"viewBox=\"0 0 24 24\"\n",
              "     width=\"24px\">\n",
              "    <g>\n",
              "        <path d=\"M19 3H5c-1.1 0-2 .9-2 2v14c0 1.1.9 2 2 2h14c1.1 0 2-.9 2-2V5c0-1.1-.9-2-2-2zM9 17H7v-7h2v7zm4 0h-2V7h2v10zm4 0h-2v-4h2v4z\"/>\n",
              "    </g>\n",
              "</svg>\n",
              "  </button>\n",
              "\n",
              "<style>\n",
              "  .colab-df-quickchart {\n",
              "      --bg-color: #E8F0FE;\n",
              "      --fill-color: #1967D2;\n",
              "      --hover-bg-color: #E2EBFA;\n",
              "      --hover-fill-color: #174EA6;\n",
              "      --disabled-fill-color: #AAA;\n",
              "      --disabled-bg-color: #DDD;\n",
              "  }\n",
              "\n",
              "  [theme=dark] .colab-df-quickchart {\n",
              "      --bg-color: #3B4455;\n",
              "      --fill-color: #D2E3FC;\n",
              "      --hover-bg-color: #434B5C;\n",
              "      --hover-fill-color: #FFFFFF;\n",
              "      --disabled-bg-color: #3B4455;\n",
              "      --disabled-fill-color: #666;\n",
              "  }\n",
              "\n",
              "  .colab-df-quickchart {\n",
              "    background-color: var(--bg-color);\n",
              "    border: none;\n",
              "    border-radius: 50%;\n",
              "    cursor: pointer;\n",
              "    display: none;\n",
              "    fill: var(--fill-color);\n",
              "    height: 32px;\n",
              "    padding: 0;\n",
              "    width: 32px;\n",
              "  }\n",
              "\n",
              "  .colab-df-quickchart:hover {\n",
              "    background-color: var(--hover-bg-color);\n",
              "    box-shadow: 0 1px 2px rgba(60, 64, 67, 0.3), 0 1px 3px 1px rgba(60, 64, 67, 0.15);\n",
              "    fill: var(--button-hover-fill-color);\n",
              "  }\n",
              "\n",
              "  .colab-df-quickchart-complete:disabled,\n",
              "  .colab-df-quickchart-complete:disabled:hover {\n",
              "    background-color: var(--disabled-bg-color);\n",
              "    fill: var(--disabled-fill-color);\n",
              "    box-shadow: none;\n",
              "  }\n",
              "\n",
              "  .colab-df-spinner {\n",
              "    border: 2px solid var(--fill-color);\n",
              "    border-color: transparent;\n",
              "    border-bottom-color: var(--fill-color);\n",
              "    animation:\n",
              "      spin 1s steps(1) infinite;\n",
              "  }\n",
              "\n",
              "  @keyframes spin {\n",
              "    0% {\n",
              "      border-color: transparent;\n",
              "      border-bottom-color: var(--fill-color);\n",
              "      border-left-color: var(--fill-color);\n",
              "    }\n",
              "    20% {\n",
              "      border-color: transparent;\n",
              "      border-left-color: var(--fill-color);\n",
              "      border-top-color: var(--fill-color);\n",
              "    }\n",
              "    30% {\n",
              "      border-color: transparent;\n",
              "      border-left-color: var(--fill-color);\n",
              "      border-top-color: var(--fill-color);\n",
              "      border-right-color: var(--fill-color);\n",
              "    }\n",
              "    40% {\n",
              "      border-color: transparent;\n",
              "      border-right-color: var(--fill-color);\n",
              "      border-top-color: var(--fill-color);\n",
              "    }\n",
              "    60% {\n",
              "      border-color: transparent;\n",
              "      border-right-color: var(--fill-color);\n",
              "    }\n",
              "    80% {\n",
              "      border-color: transparent;\n",
              "      border-right-color: var(--fill-color);\n",
              "      border-bottom-color: var(--fill-color);\n",
              "    }\n",
              "    90% {\n",
              "      border-color: transparent;\n",
              "      border-bottom-color: var(--fill-color);\n",
              "    }\n",
              "  }\n",
              "</style>\n",
              "\n",
              "  <script>\n",
              "    async function quickchart(key) {\n",
              "      const quickchartButtonEl =\n",
              "        document.querySelector('#' + key + ' button');\n",
              "      quickchartButtonEl.disabled = true;  // To prevent multiple clicks.\n",
              "      quickchartButtonEl.classList.add('colab-df-spinner');\n",
              "      try {\n",
              "        const charts = await google.colab.kernel.invokeFunction(\n",
              "            'suggestCharts', [key], {});\n",
              "      } catch (error) {\n",
              "        console.error('Error during call to suggestCharts:', error);\n",
              "      }\n",
              "      quickchartButtonEl.classList.remove('colab-df-spinner');\n",
              "      quickchartButtonEl.classList.add('colab-df-quickchart-complete');\n",
              "    }\n",
              "    (() => {\n",
              "      let quickchartButtonEl =\n",
              "        document.querySelector('#df-7b698be0-3bdc-4fc8-adf5-8e3d8b876cf0 button');\n",
              "      quickchartButtonEl.style.display =\n",
              "        google.colab.kernel.accessAllowed ? 'block' : 'none';\n",
              "    })();\n",
              "  </script>\n",
              "</div>\n",
              "    </div>\n",
              "  </div>\n"
            ]
          },
          "metadata": {},
          "execution_count": 13
        }
      ]
    },
    {
      "cell_type": "code",
      "source": [
        "new_rape_concept = new_rape_concept[new_rape_concept[\"Year\"]!=\"Percent\\nchange\"]"
      ],
      "metadata": {
        "id": "-wctIpZlEjfj"
      },
      "execution_count": 14,
      "outputs": []
    },
    {
      "cell_type": "code",
      "source": [
        "df_total = pd.concat([df_merged_early, old_rape_concept, new_rape_concept])\n",
        "df_total[\"Area\"] = df_total[\"Area\"].str.title()\n",
        "df_total[\"Area\"] = df_total[\"Area\"].str.replace(r'\\d', '', regex=True).str.title()\n",
        "\n"
      ],
      "metadata": {
        "id": "A47VcZkvDD-j"
      },
      "execution_count": 15,
      "outputs": []
    },
    {
      "cell_type": "code",
      "source": [
        "import us\n",
        "\n",
        "def state_name_to_abbreviation(state_name):\n",
        "    state = us.states.lookup(state_name)\n",
        "    if state:\n",
        "        return state.abbr\n",
        "    else:\n",
        "        return state_name  # Return the original name if it's not found\n",
        "\n",
        "# Assuming df is your DataFrame\n",
        "# Use the apply method to replace full state names with abbreviations in the \"Area\" column\n",
        "df_total['State'] = df_total['Area'].apply(state_name_to_abbreviation)\n",
        "\n",
        "df_total[\"State\"] = df_total[\"State\"].str.replace(\"District Of Columbia\", \"DC\")"
      ],
      "metadata": {
        "id": "96QrTRd2JQTn"
      },
      "execution_count": 16,
      "outputs": []
    },
    {
      "cell_type": "code",
      "source": [
        "df_total[\"State\"].value_counts()"
      ],
      "metadata": {
        "colab": {
          "base_uri": "https://localhost:8080/"
        },
        "id": "Pc5IsYdvJFnW",
        "outputId": "147cbef8-29e4-41a5-c5ef-ca8468b0ba02"
      },
      "execution_count": 17,
      "outputs": [
        {
          "output_type": "execute_result",
          "data": {
            "text/plain": [
              "AL    20\n",
              "AK    20\n",
              "NV    20\n",
              "NH    20\n",
              "NJ    20\n",
              "NM    20\n",
              "NY    20\n",
              "NC    20\n",
              "ND    20\n",
              "OH    20\n",
              "OK    20\n",
              "OR    20\n",
              "PA    20\n",
              "RI    20\n",
              "SC    20\n",
              "SD    20\n",
              "TN    20\n",
              "TX    20\n",
              "UT    20\n",
              "VT    20\n",
              "VA    20\n",
              "WA    20\n",
              "WV    20\n",
              "WI    20\n",
              "WY    20\n",
              "NE    20\n",
              "MT    20\n",
              "MO    20\n",
              "ID    20\n",
              "AZ    20\n",
              "AR    20\n",
              "CA    20\n",
              "CO    20\n",
              "CT    20\n",
              "DE    20\n",
              "DC    20\n",
              "FL    20\n",
              "GA    20\n",
              "HI    20\n",
              "IL    20\n",
              "MS    20\n",
              "IN    20\n",
              "IA    20\n",
              "KS    20\n",
              "KY    20\n",
              "LA    20\n",
              "ME    20\n",
              "MD    20\n",
              "MA    20\n",
              "MI    20\n",
              "MN    20\n",
              "PR    16\n",
              "Name: State, dtype: int64"
            ]
          },
          "metadata": {},
          "execution_count": 17
        }
      ]
    },
    {
      "cell_type": "code",
      "source": [
        "df_total[\"Total_crime\"] = df_total[\"Violent_crime\"]  + df_total[\"Property_crime\"]\n",
        "df_total[\"Total_crime_per_100K\"] =  df_total[\"Total_crime\"]/df_total[\"Population\"] *100*1000\n"
      ],
      "metadata": {
        "id": "xY5mo90-KEdt"
      },
      "execution_count": 19,
      "outputs": []
    },
    {
      "cell_type": "code",
      "source": [
        "df_total.columns"
      ],
      "metadata": {
        "colab": {
          "base_uri": "https://localhost:8080/"
        },
        "id": "RUgmEs8iSAW6",
        "outputId": "63ea15ec-cbf8-4f54-9a41-745cffca8bbd"
      },
      "execution_count": 20,
      "outputs": [
        {
          "output_type": "execute_result",
          "data": {
            "text/plain": [
              "Index(['Area', 'Year', 'Population', 'Violent_crime', 'Violent_crime_per_100K',\n",
              "       'Murder', 'Murder_per_100K', 'Rape', 'Rape_per_100K', 'Robbery',\n",
              "       'Robbery_per_100K', 'Aggravated_assault', 'Aggravated_assault_per_100K',\n",
              "       'Property_crime', 'Property_crime_per_100K', 'Burglary',\n",
              "       'Burglary_per_100K', 'Larceny_theft', 'Larceny_theft_per_100K',\n",
              "       'Motor_vehicle_theft', 'Motor_vehicle_theft_per_100K', 'Rape_legacy',\n",
              "       'Rape_legacy_per_100K', 'Rape_revised', 'Rape_revised_per_100K',\n",
              "       'State', 'Total_crime', 'Total_crime_per_100K'],\n",
              "      dtype='object')"
            ]
          },
          "metadata": {},
          "execution_count": 20
        }
      ]
    },
    {
      "cell_type": "code",
      "source": [
        "df_total.to_csv(\"FBI_Crime_total.csv\", index=False)"
      ],
      "metadata": {
        "id": "ybn8R1lsJFXG"
      },
      "execution_count": 21,
      "outputs": []
    },
    {
      "cell_type": "markdown",
      "source": [
        "# Graph"
      ],
      "metadata": {
        "id": "W-O37ZHVJxhZ"
      }
    },
    {
      "cell_type": "code",
      "source": [
        "! pip install plotly\n",
        "! pip install -U kaleido"
      ],
      "metadata": {
        "colab": {
          "base_uri": "https://localhost:8080/"
        },
        "id": "CBfOivgUJ7iE",
        "outputId": "4c801daa-9d0a-42a1-dfee-db4c520fcd4f"
      },
      "execution_count": 22,
      "outputs": [
        {
          "output_type": "stream",
          "name": "stdout",
          "text": [
            "Requirement already satisfied: plotly in /usr/local/lib/python3.10/dist-packages (5.15.0)\n",
            "Requirement already satisfied: tenacity>=6.2.0 in /usr/local/lib/python3.10/dist-packages (from plotly) (8.2.3)\n",
            "Requirement already satisfied: packaging in /usr/local/lib/python3.10/dist-packages (from plotly) (23.2)\n",
            "Collecting kaleido\n",
            "  Downloading kaleido-0.2.1-py2.py3-none-manylinux1_x86_64.whl (79.9 MB)\n",
            "\u001b[2K     \u001b[90m━━━━━━━━━━━━━━━━━━━━━━━━━━━━━━━━━━━━━━━━\u001b[0m \u001b[32m79.9/79.9 MB\u001b[0m \u001b[31m7.5 MB/s\u001b[0m eta \u001b[36m0:00:00\u001b[0m\n",
            "\u001b[?25hInstalling collected packages: kaleido\n",
            "\u001b[31mERROR: pip's dependency resolver does not currently take into account all the packages that are installed. This behaviour is the source of the following dependency conflicts.\n",
            "lida 0.0.10 requires fastapi, which is not installed.\n",
            "lida 0.0.10 requires python-multipart, which is not installed.\n",
            "lida 0.0.10 requires uvicorn, which is not installed.\u001b[0m\u001b[31m\n",
            "\u001b[0mSuccessfully installed kaleido-0.2.1\n"
          ]
        }
      ]
    },
    {
      "cell_type": "code",
      "source": [
        "df_total.columns"
      ],
      "metadata": {
        "colab": {
          "base_uri": "https://localhost:8080/"
        },
        "id": "fBKzjq9jJ-BF",
        "outputId": "480f9140-64a4-49dd-9a58-e30f6b16f984"
      },
      "execution_count": null,
      "outputs": [
        {
          "output_type": "execute_result",
          "data": {
            "text/plain": [
              "Index(['Area', 'Year', 'Population', 'Violent_crime', 'Violent_crime_per_100K',\n",
              "       'Murder', 'Murder_per_100K', 'Rape', 'Rape_per_100K', 'Robbery',\n",
              "       'Robbery_per_100K', 'Aggravated_assault', 'Aggravated_assault_per_100K',\n",
              "       'Property_crime', 'Property_crime_per_100K', 'Burglary',\n",
              "       'Burglary_per_100K', 'Larceny_theft', 'Larceny_theft_per_100K',\n",
              "       'Motor_vehicle_theft', 'Motor_vehicle_theft_per_100K', 'Rape_legacy',\n",
              "       'Rape_legacy_per_100K', 'Rape_revised', 'Rape_revised_per_100K',\n",
              "       'State'],\n",
              "      dtype='object')"
            ]
          },
          "metadata": {},
          "execution_count": 20
        }
      ]
    },
    {
      "cell_type": "code",
      "source": [
        "df_total[\"Total_crime_per_100K\"].describe()"
      ],
      "metadata": {
        "colab": {
          "base_uri": "https://localhost:8080/"
        },
        "id": "pPPVGcUaKVPN",
        "outputId": "101aca0f-88df-4c47-8d26-836265cef440"
      },
      "execution_count": 23,
      "outputs": [
        {
          "output_type": "execute_result",
          "data": {
            "text/plain": [
              "count    1035.000000\n",
              "mean     3355.658447\n",
              "std      1035.530734\n",
              "min       905.534469\n",
              "25%      2577.006433\n",
              "50%      3220.169164\n",
              "75%      4041.663176\n",
              "max      8022.273681\n",
              "Name: Total_crime_per_100K, dtype: float64"
            ]
          },
          "metadata": {},
          "execution_count": 23
        }
      ]
    },
    {
      "cell_type": "code",
      "source": [
        "df_total\n",
        "\n",
        "\n",
        "import plotly.express as px\n",
        "import kaleido\n",
        "\n",
        "\n",
        "\n",
        "fig = px.choropleth(df_total,\n",
        "                    locations=\"State\",\n",
        "                    locationmode='USA-states',\n",
        "                    color=\"Total_crime_per_100K\",\n",
        "                    #range_color = [900,6000],\n",
        "                    color_continuous_scale=\"Jet\",\n",
        "                    scope='usa',\n",
        "                    animation_frame='Year',\n",
        "                    title = \"Total Crime per 100K Population per Year\")\n",
        "fig.show()\n",
        "\n",
        "fig.write_html(\"Total_Crime_per_100K_pop.html\")"
      ],
      "metadata": {
        "colab": {
          "base_uri": "https://localhost:8080/",
          "height": 542
        },
        "id": "_-qnymOkJybD",
        "outputId": "07a68ba3-47cc-43f0-b3c4-ee4502df6c5d"
      },
      "execution_count": 27,
      "outputs": [
        {
          "output_type": "display_data",
          "data": {
            "text/html": [
              "<html>\n",
              "<head><meta charset=\"utf-8\" /></head>\n",
              "<body>\n",
              "    <div>            <script src=\"https://cdnjs.cloudflare.com/ajax/libs/mathjax/2.7.5/MathJax.js?config=TeX-AMS-MML_SVG\"></script><script type=\"text/javascript\">if (window.MathJax && window.MathJax.Hub && window.MathJax.Hub.Config) {window.MathJax.Hub.Config({SVG: {font: \"STIX-Web\"}});}</script>                <script type=\"text/javascript\">window.PlotlyConfig = {MathJaxConfig: 'local'};</script>\n",
              "        <script charset=\"utf-8\" src=\"https://cdn.plot.ly/plotly-2.24.1.min.js\"></script>                <div id=\"a8693a76-bce6-4368-8b14-0764825efa3a\" class=\"plotly-graph-div\" style=\"height:525px; width:100%;\"></div>            <script type=\"text/javascript\">                                    window.PLOTLYENV=window.PLOTLYENV || {};                                    if (document.getElementById(\"a8693a76-bce6-4368-8b14-0764825efa3a\")) {                    Plotly.newPlot(                        \"a8693a76-bce6-4368-8b14-0764825efa3a\",                        [{\"coloraxis\":\"coloraxis\",\"geo\":\"geo\",\"hovertemplate\":\"Year=2000\\u003cbr\\u003eState=%{location}\\u003cbr\\u003eTotal_crime_per_100K=%{z}\\u003cextra\\u003e\\u003c\\u002fextra\\u003e\",\"locationmode\":\"USA-states\",\"locations\":[\"AL\",\"AK\",\"AZ\",\"AR\",\"CA\",\"CO\",\"CT\",\"DE\",\"DC\",\"FL\",\"GA\",\"HI\",\"ID\",\"IL\",\"IN\",\"IA\",\"KS\",\"KY\",\"LA\",\"ME\",\"MD\",\"MA\",\"MI\",\"MN\",\"MS\",\"MO\",\"MT\",\"NE\",\"NV\",\"NH\",\"NJ\",\"NM\",\"NY\",\"NC\",\"ND\",\"OH\",\"OK\",\"OR\",\"PA\",\"RI\",\"SC\",\"SD\",\"TN\",\"TX\",\"UT\",\"VT\",\"VA\",\"WA\",\"WV\",\"WI\",\"WY\"],\"name\":\"\",\"z\":[4545.861347844663,4249.4241799748615,5829.535230747401,4115.321313682951,3739.747177344309,3982.646019388267,null,4478.0500255232255,7276.522176908326,5694.734538252067,4751.129701715749,5198.933255855991,3186.2053722198566,4286.194069179301,3751.9211049776454,3233.7499196944705,4408.801012342575,2959.743617213156,5422.80826748678,2619.76605645988,4816.117705210587,3026.115367271913,4109.858645880583,3488.3978567649133,4004.3829521861676,4527.764904665794,3533.3824727470223,4095.513080105162,4268.570058806249,2433.1073503017515,3160.4936804387744,5518.881875444602,3099.5722752671904,4919.326655579179,2288.0722516350047,4041.8245525026555,4558.614106195521,4845.386346345456,2995.3292282567927,3476.4227301040996,5221.370225213684,2319.8170747863132,4890.2120003522405,4955.4954915206445,4476.060701182938,2986.8911858376846,3028.1492657711397,5105.629830130735,2602.768057405007,3209.0684092529837,3298.014103389755],\"type\":\"choropleth\"}],                        {\"template\":{\"data\":{\"histogram2dcontour\":[{\"type\":\"histogram2dcontour\",\"colorbar\":{\"outlinewidth\":0,\"ticks\":\"\"},\"colorscale\":[[0.0,\"#0d0887\"],[0.1111111111111111,\"#46039f\"],[0.2222222222222222,\"#7201a8\"],[0.3333333333333333,\"#9c179e\"],[0.4444444444444444,\"#bd3786\"],[0.5555555555555556,\"#d8576b\"],[0.6666666666666666,\"#ed7953\"],[0.7777777777777778,\"#fb9f3a\"],[0.8888888888888888,\"#fdca26\"],[1.0,\"#f0f921\"]]}],\"choropleth\":[{\"type\":\"choropleth\",\"colorbar\":{\"outlinewidth\":0,\"ticks\":\"\"}}],\"histogram2d\":[{\"type\":\"histogram2d\",\"colorbar\":{\"outlinewidth\":0,\"ticks\":\"\"},\"colorscale\":[[0.0,\"#0d0887\"],[0.1111111111111111,\"#46039f\"],[0.2222222222222222,\"#7201a8\"],[0.3333333333333333,\"#9c179e\"],[0.4444444444444444,\"#bd3786\"],[0.5555555555555556,\"#d8576b\"],[0.6666666666666666,\"#ed7953\"],[0.7777777777777778,\"#fb9f3a\"],[0.8888888888888888,\"#fdca26\"],[1.0,\"#f0f921\"]]}],\"heatmap\":[{\"type\":\"heatmap\",\"colorbar\":{\"outlinewidth\":0,\"ticks\":\"\"},\"colorscale\":[[0.0,\"#0d0887\"],[0.1111111111111111,\"#46039f\"],[0.2222222222222222,\"#7201a8\"],[0.3333333333333333,\"#9c179e\"],[0.4444444444444444,\"#bd3786\"],[0.5555555555555556,\"#d8576b\"],[0.6666666666666666,\"#ed7953\"],[0.7777777777777778,\"#fb9f3a\"],[0.8888888888888888,\"#fdca26\"],[1.0,\"#f0f921\"]]}],\"heatmapgl\":[{\"type\":\"heatmapgl\",\"colorbar\":{\"outlinewidth\":0,\"ticks\":\"\"},\"colorscale\":[[0.0,\"#0d0887\"],[0.1111111111111111,\"#46039f\"],[0.2222222222222222,\"#7201a8\"],[0.3333333333333333,\"#9c179e\"],[0.4444444444444444,\"#bd3786\"],[0.5555555555555556,\"#d8576b\"],[0.6666666666666666,\"#ed7953\"],[0.7777777777777778,\"#fb9f3a\"],[0.8888888888888888,\"#fdca26\"],[1.0,\"#f0f921\"]]}],\"contourcarpet\":[{\"type\":\"contourcarpet\",\"colorbar\":{\"outlinewidth\":0,\"ticks\":\"\"}}],\"contour\":[{\"type\":\"contour\",\"colorbar\":{\"outlinewidth\":0,\"ticks\":\"\"},\"colorscale\":[[0.0,\"#0d0887\"],[0.1111111111111111,\"#46039f\"],[0.2222222222222222,\"#7201a8\"],[0.3333333333333333,\"#9c179e\"],[0.4444444444444444,\"#bd3786\"],[0.5555555555555556,\"#d8576b\"],[0.6666666666666666,\"#ed7953\"],[0.7777777777777778,\"#fb9f3a\"],[0.8888888888888888,\"#fdca26\"],[1.0,\"#f0f921\"]]}],\"surface\":[{\"type\":\"surface\",\"colorbar\":{\"outlinewidth\":0,\"ticks\":\"\"},\"colorscale\":[[0.0,\"#0d0887\"],[0.1111111111111111,\"#46039f\"],[0.2222222222222222,\"#7201a8\"],[0.3333333333333333,\"#9c179e\"],[0.4444444444444444,\"#bd3786\"],[0.5555555555555556,\"#d8576b\"],[0.6666666666666666,\"#ed7953\"],[0.7777777777777778,\"#fb9f3a\"],[0.8888888888888888,\"#fdca26\"],[1.0,\"#f0f921\"]]}],\"mesh3d\":[{\"type\":\"mesh3d\",\"colorbar\":{\"outlinewidth\":0,\"ticks\":\"\"}}],\"scatter\":[{\"fillpattern\":{\"fillmode\":\"overlay\",\"size\":10,\"solidity\":0.2},\"type\":\"scatter\"}],\"parcoords\":[{\"type\":\"parcoords\",\"line\":{\"colorbar\":{\"outlinewidth\":0,\"ticks\":\"\"}}}],\"scatterpolargl\":[{\"type\":\"scatterpolargl\",\"marker\":{\"colorbar\":{\"outlinewidth\":0,\"ticks\":\"\"}}}],\"bar\":[{\"error_x\":{\"color\":\"#2a3f5f\"},\"error_y\":{\"color\":\"#2a3f5f\"},\"marker\":{\"line\":{\"color\":\"#E5ECF6\",\"width\":0.5},\"pattern\":{\"fillmode\":\"overlay\",\"size\":10,\"solidity\":0.2}},\"type\":\"bar\"}],\"scattergeo\":[{\"type\":\"scattergeo\",\"marker\":{\"colorbar\":{\"outlinewidth\":0,\"ticks\":\"\"}}}],\"scatterpolar\":[{\"type\":\"scatterpolar\",\"marker\":{\"colorbar\":{\"outlinewidth\":0,\"ticks\":\"\"}}}],\"histogram\":[{\"marker\":{\"pattern\":{\"fillmode\":\"overlay\",\"size\":10,\"solidity\":0.2}},\"type\":\"histogram\"}],\"scattergl\":[{\"type\":\"scattergl\",\"marker\":{\"colorbar\":{\"outlinewidth\":0,\"ticks\":\"\"}}}],\"scatter3d\":[{\"type\":\"scatter3d\",\"line\":{\"colorbar\":{\"outlinewidth\":0,\"ticks\":\"\"}},\"marker\":{\"colorbar\":{\"outlinewidth\":0,\"ticks\":\"\"}}}],\"scattermapbox\":[{\"type\":\"scattermapbox\",\"marker\":{\"colorbar\":{\"outlinewidth\":0,\"ticks\":\"\"}}}],\"scatterternary\":[{\"type\":\"scatterternary\",\"marker\":{\"colorbar\":{\"outlinewidth\":0,\"ticks\":\"\"}}}],\"scattercarpet\":[{\"type\":\"scattercarpet\",\"marker\":{\"colorbar\":{\"outlinewidth\":0,\"ticks\":\"\"}}}],\"carpet\":[{\"aaxis\":{\"endlinecolor\":\"#2a3f5f\",\"gridcolor\":\"white\",\"linecolor\":\"white\",\"minorgridcolor\":\"white\",\"startlinecolor\":\"#2a3f5f\"},\"baxis\":{\"endlinecolor\":\"#2a3f5f\",\"gridcolor\":\"white\",\"linecolor\":\"white\",\"minorgridcolor\":\"white\",\"startlinecolor\":\"#2a3f5f\"},\"type\":\"carpet\"}],\"table\":[{\"cells\":{\"fill\":{\"color\":\"#EBF0F8\"},\"line\":{\"color\":\"white\"}},\"header\":{\"fill\":{\"color\":\"#C8D4E3\"},\"line\":{\"color\":\"white\"}},\"type\":\"table\"}],\"barpolar\":[{\"marker\":{\"line\":{\"color\":\"#E5ECF6\",\"width\":0.5},\"pattern\":{\"fillmode\":\"overlay\",\"size\":10,\"solidity\":0.2}},\"type\":\"barpolar\"}],\"pie\":[{\"automargin\":true,\"type\":\"pie\"}]},\"layout\":{\"autotypenumbers\":\"strict\",\"colorway\":[\"#636efa\",\"#EF553B\",\"#00cc96\",\"#ab63fa\",\"#FFA15A\",\"#19d3f3\",\"#FF6692\",\"#B6E880\",\"#FF97FF\",\"#FECB52\"],\"font\":{\"color\":\"#2a3f5f\"},\"hovermode\":\"closest\",\"hoverlabel\":{\"align\":\"left\"},\"paper_bgcolor\":\"white\",\"plot_bgcolor\":\"#E5ECF6\",\"polar\":{\"bgcolor\":\"#E5ECF6\",\"angularaxis\":{\"gridcolor\":\"white\",\"linecolor\":\"white\",\"ticks\":\"\"},\"radialaxis\":{\"gridcolor\":\"white\",\"linecolor\":\"white\",\"ticks\":\"\"}},\"ternary\":{\"bgcolor\":\"#E5ECF6\",\"aaxis\":{\"gridcolor\":\"white\",\"linecolor\":\"white\",\"ticks\":\"\"},\"baxis\":{\"gridcolor\":\"white\",\"linecolor\":\"white\",\"ticks\":\"\"},\"caxis\":{\"gridcolor\":\"white\",\"linecolor\":\"white\",\"ticks\":\"\"}},\"coloraxis\":{\"colorbar\":{\"outlinewidth\":0,\"ticks\":\"\"}},\"colorscale\":{\"sequential\":[[0.0,\"#0d0887\"],[0.1111111111111111,\"#46039f\"],[0.2222222222222222,\"#7201a8\"],[0.3333333333333333,\"#9c179e\"],[0.4444444444444444,\"#bd3786\"],[0.5555555555555556,\"#d8576b\"],[0.6666666666666666,\"#ed7953\"],[0.7777777777777778,\"#fb9f3a\"],[0.8888888888888888,\"#fdca26\"],[1.0,\"#f0f921\"]],\"sequentialminus\":[[0.0,\"#0d0887\"],[0.1111111111111111,\"#46039f\"],[0.2222222222222222,\"#7201a8\"],[0.3333333333333333,\"#9c179e\"],[0.4444444444444444,\"#bd3786\"],[0.5555555555555556,\"#d8576b\"],[0.6666666666666666,\"#ed7953\"],[0.7777777777777778,\"#fb9f3a\"],[0.8888888888888888,\"#fdca26\"],[1.0,\"#f0f921\"]],\"diverging\":[[0,\"#8e0152\"],[0.1,\"#c51b7d\"],[0.2,\"#de77ae\"],[0.3,\"#f1b6da\"],[0.4,\"#fde0ef\"],[0.5,\"#f7f7f7\"],[0.6,\"#e6f5d0\"],[0.7,\"#b8e186\"],[0.8,\"#7fbc41\"],[0.9,\"#4d9221\"],[1,\"#276419\"]]},\"xaxis\":{\"gridcolor\":\"white\",\"linecolor\":\"white\",\"ticks\":\"\",\"title\":{\"standoff\":15},\"zerolinecolor\":\"white\",\"automargin\":true,\"zerolinewidth\":2},\"yaxis\":{\"gridcolor\":\"white\",\"linecolor\":\"white\",\"ticks\":\"\",\"title\":{\"standoff\":15},\"zerolinecolor\":\"white\",\"automargin\":true,\"zerolinewidth\":2},\"scene\":{\"xaxis\":{\"backgroundcolor\":\"#E5ECF6\",\"gridcolor\":\"white\",\"linecolor\":\"white\",\"showbackground\":true,\"ticks\":\"\",\"zerolinecolor\":\"white\",\"gridwidth\":2},\"yaxis\":{\"backgroundcolor\":\"#E5ECF6\",\"gridcolor\":\"white\",\"linecolor\":\"white\",\"showbackground\":true,\"ticks\":\"\",\"zerolinecolor\":\"white\",\"gridwidth\":2},\"zaxis\":{\"backgroundcolor\":\"#E5ECF6\",\"gridcolor\":\"white\",\"linecolor\":\"white\",\"showbackground\":true,\"ticks\":\"\",\"zerolinecolor\":\"white\",\"gridwidth\":2}},\"shapedefaults\":{\"line\":{\"color\":\"#2a3f5f\"}},\"annotationdefaults\":{\"arrowcolor\":\"#2a3f5f\",\"arrowhead\":0,\"arrowwidth\":1},\"geo\":{\"bgcolor\":\"white\",\"landcolor\":\"#E5ECF6\",\"subunitcolor\":\"white\",\"showland\":true,\"showlakes\":true,\"lakecolor\":\"white\"},\"title\":{\"x\":0.05},\"mapbox\":{\"style\":\"light\"}}},\"geo\":{\"domain\":{\"x\":[0.0,1.0],\"y\":[0.0,1.0]},\"center\":{},\"scope\":\"usa\"},\"coloraxis\":{\"colorbar\":{\"title\":{\"text\":\"Total_crime_per_100K\"}},\"colorscale\":[[0.0,\"rgb(0,0,131)\"],[0.2,\"rgb(0,60,170)\"],[0.4,\"rgb(5,255,255)\"],[0.6,\"rgb(255,255,0)\"],[0.8,\"rgb(250,0,0)\"],[1.0,\"rgb(128,0,0)\"]]},\"legend\":{\"tracegroupgap\":0},\"title\":{\"text\":\"Total Crime per 100K Population per Year\"},\"updatemenus\":[{\"buttons\":[{\"args\":[null,{\"frame\":{\"duration\":500,\"redraw\":true},\"mode\":\"immediate\",\"fromcurrent\":true,\"transition\":{\"duration\":500,\"easing\":\"linear\"}}],\"label\":\"&#9654;\",\"method\":\"animate\"},{\"args\":[[null],{\"frame\":{\"duration\":0,\"redraw\":true},\"mode\":\"immediate\",\"fromcurrent\":true,\"transition\":{\"duration\":0,\"easing\":\"linear\"}}],\"label\":\"&#9724;\",\"method\":\"animate\"}],\"direction\":\"left\",\"pad\":{\"r\":10,\"t\":70},\"showactive\":false,\"type\":\"buttons\",\"x\":0.1,\"xanchor\":\"right\",\"y\":0,\"yanchor\":\"top\"}],\"sliders\":[{\"active\":0,\"currentvalue\":{\"prefix\":\"Year=\"},\"len\":0.9,\"pad\":{\"b\":10,\"t\":60},\"steps\":[{\"args\":[[\"2000\"],{\"frame\":{\"duration\":0,\"redraw\":true},\"mode\":\"immediate\",\"fromcurrent\":true,\"transition\":{\"duration\":0,\"easing\":\"linear\"}}],\"label\":\"2000\",\"method\":\"animate\"},{\"args\":[[\"2001\"],{\"frame\":{\"duration\":0,\"redraw\":true},\"mode\":\"immediate\",\"fromcurrent\":true,\"transition\":{\"duration\":0,\"easing\":\"linear\"}}],\"label\":\"2001\",\"method\":\"animate\"},{\"args\":[[\"2002\"],{\"frame\":{\"duration\":0,\"redraw\":true},\"mode\":\"immediate\",\"fromcurrent\":true,\"transition\":{\"duration\":0,\"easing\":\"linear\"}}],\"label\":\"2002\",\"method\":\"animate\"},{\"args\":[[\"2003\"],{\"frame\":{\"duration\":0,\"redraw\":true},\"mode\":\"immediate\",\"fromcurrent\":true,\"transition\":{\"duration\":0,\"easing\":\"linear\"}}],\"label\":\"2003\",\"method\":\"animate\"},{\"args\":[[\"2004\"],{\"frame\":{\"duration\":0,\"redraw\":true},\"mode\":\"immediate\",\"fromcurrent\":true,\"transition\":{\"duration\":0,\"easing\":\"linear\"}}],\"label\":\"2004\",\"method\":\"animate\"},{\"args\":[[\"2005\"],{\"frame\":{\"duration\":0,\"redraw\":true},\"mode\":\"immediate\",\"fromcurrent\":true,\"transition\":{\"duration\":0,\"easing\":\"linear\"}}],\"label\":\"2005\",\"method\":\"animate\"},{\"args\":[[\"2006\"],{\"frame\":{\"duration\":0,\"redraw\":true},\"mode\":\"immediate\",\"fromcurrent\":true,\"transition\":{\"duration\":0,\"easing\":\"linear\"}}],\"label\":\"2006\",\"method\":\"animate\"},{\"args\":[[\"2007\"],{\"frame\":{\"duration\":0,\"redraw\":true},\"mode\":\"immediate\",\"fromcurrent\":true,\"transition\":{\"duration\":0,\"easing\":\"linear\"}}],\"label\":\"2007\",\"method\":\"animate\"},{\"args\":[[\"2008\"],{\"frame\":{\"duration\":0,\"redraw\":true},\"mode\":\"immediate\",\"fromcurrent\":true,\"transition\":{\"duration\":0,\"easing\":\"linear\"}}],\"label\":\"2008\",\"method\":\"animate\"},{\"args\":[[\"2009\"],{\"frame\":{\"duration\":0,\"redraw\":true},\"mode\":\"immediate\",\"fromcurrent\":true,\"transition\":{\"duration\":0,\"easing\":\"linear\"}}],\"label\":\"2009\",\"method\":\"animate\"},{\"args\":[[\"2010\"],{\"frame\":{\"duration\":0,\"redraw\":true},\"mode\":\"immediate\",\"fromcurrent\":true,\"transition\":{\"duration\":0,\"easing\":\"linear\"}}],\"label\":\"2010\",\"method\":\"animate\"},{\"args\":[[\"2011\"],{\"frame\":{\"duration\":0,\"redraw\":true},\"mode\":\"immediate\",\"fromcurrent\":true,\"transition\":{\"duration\":0,\"easing\":\"linear\"}}],\"label\":\"2011\",\"method\":\"animate\"},{\"args\":[[\"2012\"],{\"frame\":{\"duration\":0,\"redraw\":true},\"mode\":\"immediate\",\"fromcurrent\":true,\"transition\":{\"duration\":0,\"easing\":\"linear\"}}],\"label\":\"2012\",\"method\":\"animate\"},{\"args\":[[\"2013\"],{\"frame\":{\"duration\":0,\"redraw\":true},\"mode\":\"immediate\",\"fromcurrent\":true,\"transition\":{\"duration\":0,\"easing\":\"linear\"}}],\"label\":\"2013\",\"method\":\"animate\"},{\"args\":[[\"2014\"],{\"frame\":{\"duration\":0,\"redraw\":true},\"mode\":\"immediate\",\"fromcurrent\":true,\"transition\":{\"duration\":0,\"easing\":\"linear\"}}],\"label\":\"2014\",\"method\":\"animate\"},{\"args\":[[\"2015\"],{\"frame\":{\"duration\":0,\"redraw\":true},\"mode\":\"immediate\",\"fromcurrent\":true,\"transition\":{\"duration\":0,\"easing\":\"linear\"}}],\"label\":\"2015\",\"method\":\"animate\"},{\"args\":[[\"2016\"],{\"frame\":{\"duration\":0,\"redraw\":true},\"mode\":\"immediate\",\"fromcurrent\":true,\"transition\":{\"duration\":0,\"easing\":\"linear\"}}],\"label\":\"2016\",\"method\":\"animate\"},{\"args\":[[\"2017\"],{\"frame\":{\"duration\":0,\"redraw\":true},\"mode\":\"immediate\",\"fromcurrent\":true,\"transition\":{\"duration\":0,\"easing\":\"linear\"}}],\"label\":\"2017\",\"method\":\"animate\"},{\"args\":[[\"2018\"],{\"frame\":{\"duration\":0,\"redraw\":true},\"mode\":\"immediate\",\"fromcurrent\":true,\"transition\":{\"duration\":0,\"easing\":\"linear\"}}],\"label\":\"2018\",\"method\":\"animate\"},{\"args\":[[\"2019\"],{\"frame\":{\"duration\":0,\"redraw\":true},\"mode\":\"immediate\",\"fromcurrent\":true,\"transition\":{\"duration\":0,\"easing\":\"linear\"}}],\"label\":\"2019\",\"method\":\"animate\"}],\"x\":0.1,\"xanchor\":\"left\",\"y\":0,\"yanchor\":\"top\"}]},                        {\"responsive\": true}                    ).then(function(){\n",
              "                            Plotly.addFrames('a8693a76-bce6-4368-8b14-0764825efa3a', [{\"data\":[{\"coloraxis\":\"coloraxis\",\"geo\":\"geo\",\"hovertemplate\":\"Year=2000\\u003cbr\\u003eState=%{location}\\u003cbr\\u003eTotal_crime_per_100K=%{z}\\u003cextra\\u003e\\u003c\\u002fextra\\u003e\",\"locationmode\":\"USA-states\",\"locations\":[\"AL\",\"AK\",\"AZ\",\"AR\",\"CA\",\"CO\",\"CT\",\"DE\",\"DC\",\"FL\",\"GA\",\"HI\",\"ID\",\"IL\",\"IN\",\"IA\",\"KS\",\"KY\",\"LA\",\"ME\",\"MD\",\"MA\",\"MI\",\"MN\",\"MS\",\"MO\",\"MT\",\"NE\",\"NV\",\"NH\",\"NJ\",\"NM\",\"NY\",\"NC\",\"ND\",\"OH\",\"OK\",\"OR\",\"PA\",\"RI\",\"SC\",\"SD\",\"TN\",\"TX\",\"UT\",\"VT\",\"VA\",\"WA\",\"WV\",\"WI\",\"WY\"],\"name\":\"\",\"z\":[4545.861347844663,4249.4241799748615,5829.535230747401,4115.321313682951,3739.747177344309,3982.646019388267,null,4478.0500255232255,7276.522176908326,5694.734538252067,4751.129701715749,5198.933255855991,3186.2053722198566,4286.194069179301,3751.9211049776454,3233.7499196944705,4408.801012342575,2959.743617213156,5422.80826748678,2619.76605645988,4816.117705210587,3026.115367271913,4109.858645880583,3488.3978567649133,4004.3829521861676,4527.764904665794,3533.3824727470223,4095.513080105162,4268.570058806249,2433.1073503017515,3160.4936804387744,5518.881875444602,3099.5722752671904,4919.326655579179,2288.0722516350047,4041.8245525026555,4558.614106195521,4845.386346345456,2995.3292282567927,3476.4227301040996,5221.370225213684,2319.8170747863132,4890.2120003522405,4955.4954915206445,4476.060701182938,2986.8911858376846,3028.1492657711397,5105.629830130735,2602.768057405007,3209.0684092529837,3298.014103389755],\"type\":\"choropleth\"}],\"name\":\"2000\"},{\"data\":[{\"coloraxis\":\"coloraxis\",\"geo\":\"geo\",\"hovertemplate\":\"Year=2001\\u003cbr\\u003eState=%{location}\\u003cbr\\u003eTotal_crime_per_100K=%{z}\\u003cextra\\u003e\\u003c\\u002fextra\\u003e\",\"locationmode\":\"USA-states\",\"locations\":[\"AL\",\"AK\",\"AZ\",\"AR\",\"CA\",\"CO\",\"CT\",\"DE\",\"DC\",\"FL\",\"GA\",\"HI\",\"ID\",\"IL\",\"IN\",\"IA\",\"KS\",\"KY\",\"LA\",\"ME\",\"MD\",\"MA\",\"MI\",\"MN\",\"MS\",\"MO\",\"MT\",\"NE\",\"NV\",\"NH\",\"NJ\",\"NM\",\"NY\",\"NC\",\"ND\",\"OH\",\"OK\",\"OR\",\"PA\",\"RI\",\"SC\",\"SD\",\"TN\",\"TX\",\"UT\",\"VT\",\"VA\",\"WA\",\"WV\",\"WI\",\"WY\"],\"name\":\"\",\"z\":[4319.435994799698,4236.153550525129,6077.423850142378,4134.185707015738,3902.93593282307,4218.90144993542,3117.918036223451,4052.8031249803744,7709.566963145874,5569.659162328092,4646.313804469631,5386.075442789028,3133.3695683441256,4097.754091973908,3831.427148638251,3301.1662987453037,4321.391977632642,2938.0729228671307,5338.142127409902,2688.179564301647,4866.835492774535,3098.551189910372,4081.5180580326914,3583.6778758456358,4185.226951860881,4776.145543631312,3688.71989412151,4329.645378479893,4265.994452236721,2321.5883975377646,3225.260480048692,5323.959924467484,2925.121997995095,4938.0499148085555,2417.6922300960837,4177.573193783713,4606.951770427245,5044.074535535049,2961.1423316228743,3684.886488119971,4752.706797987995,2332.011630980703,5152.768604853536,5152.675603837709,4242.993511731708,2769.2508440848815,3178.261744243735,5151.860237178758,2559.4977790307653,3321.2351344136678,3517.6357086947814],\"type\":\"choropleth\"}],\"name\":\"2001\"},{\"data\":[{\"coloraxis\":\"coloraxis\",\"geo\":\"geo\",\"hovertemplate\":\"Year=2002\\u003cbr\\u003eState=%{location}\\u003cbr\\u003eTotal_crime_per_100K=%{z}\\u003cextra\\u003e\\u003c\\u002fextra\\u003e\",\"locationmode\":\"USA-states\",\"locations\":[\"AL\",\"AK\",\"AZ\",\"AR\",\"CA\",\"CO\",\"CT\",\"DE\",\"DC\",\"FL\",\"GA\",\"HI\",\"ID\",\"IL\",\"IN\",\"IA\",\"KS\",\"KY\",\"LA\",\"ME\",\"MD\",\"MA\",\"MI\",\"MN\",\"MS\",\"MO\",\"MT\",\"NE\",\"NV\",\"NH\",\"NJ\",\"NM\",\"NY\",\"NC\",\"ND\",\"OH\",\"OK\",\"OR\",\"PA\",\"RI\",\"SC\",\"SD\",\"TN\",\"TX\",\"UT\",\"VT\",\"VA\",\"WA\",\"WV\",\"WI\",\"WY\"],\"name\":\"\",\"z\":[4465.187624762956,4309.661906285629,6386.3282612349085,4157.517179388497,3943.7028664371055,4347.812580022553,2997.223236044009,3939.0129863695756,8022.273681112913,5420.6242043315715,4507.196585170397,6043.707998566952,3172.471593006201,4016.3579252449485,3750.015424411616,3448.1877987986763,4086.9565857746497,2902.5693574541806,5098.06038665556,2656.002793434194,4747.407402928875,3094.2152689543436,3874.1166312420364,3535.137418023316,4159.159713376572,4602.439207986349,3512.880819569565,4256.69970737575,4497.465137881869,2219.9809263279417,3024.2133569258353,5077.78997864758,2803.7066569952744,4721.383494953094,2406.207124946776,4107.285119943348,4743.233132420112,4868.4444053198695,2841.0491661553206,3589.0532613522164,5297.280398755059,2278.654986512286,5018.914875556488,5189.612272199868,4452.400770899245,2530.0360692321665,3140.2986367940293,5106.791963613092,2515.16061342836,3252.722379418054,3580.8888256136415],\"type\":\"choropleth\"}],\"name\":\"2002\"},{\"data\":[{\"coloraxis\":\"coloraxis\",\"geo\":\"geo\",\"hovertemplate\":\"Year=2003\\u003cbr\\u003eState=%{location}\\u003cbr\\u003eTotal_crime_per_100K=%{z}\\u003cextra\\u003e\\u003c\\u002fextra\\u003e\",\"locationmode\":\"USA-states\",\"locations\":[\"AL\",\"AK\",\"AZ\",\"AR\",\"CA\",\"CO\",\"CT\",\"DE\",\"DC\",\"FL\",\"GA\",\"HI\",\"ID\",\"IL\",\"IN\",\"IA\",\"KS\",\"KY\",\"LA\",\"ME\",\"MD\",\"MA\",\"MI\",\"MN\",\"MS\",\"MO\",\"MT\",\"NE\",\"NV\",\"NH\",\"NJ\",\"NM\",\"NY\",\"NC\",\"ND\",\"OH\",\"OK\",\"OR\",\"PA\",\"RI\",\"SC\",\"SD\",\"TN\",\"TX\",\"UT\",\"VT\",\"VA\",\"WA\",\"WV\",\"WI\",\"WY\"],\"name\":\"\",\"z\":[4478.629349051003,4335.576386598399,6145.576332902154,4077.5004274109465,4003.547694535406,4286.077182175531,2914.905442197962,4042.3686621626416,7408.446104255711,5182.281426926551,4708.536779848274,5507.837100272899,3151.357064022507,3841.2084393115474,3710.510757317683,3233.559619328669,4389.487524724556,2943.1785259555586,4995.86996873453,2565.618566807176,4505.356686777727,3018.828859664421,3788.497701137452,3379.4490426189004,4045.943453623579,4487.206906005872,3463.194499689959,4000.3656662398644,4902.563590007648,2202.7091987416197,2910.239354620927,4788.772515301817,2713.443874619824,4732.892380479319,2173.9027541781243,3973.662353952037,4811.745984373772,5077.823438390199,2829.309556340628,3280.63380674321,5270.580870920575,2175.0365362700163,5067.14770989779,5147.828906550618,4474.100635900908,2310.263007848401,2979.910185437152,5101.896861180358,2616.8915029878135,3103.6681292451303,3583.498589503673],\"type\":\"choropleth\"}],\"name\":\"2003\"},{\"data\":[{\"coloraxis\":\"coloraxis\",\"geo\":\"geo\",\"hovertemplate\":\"Year=2004\\u003cbr\\u003eState=%{location}\\u003cbr\\u003eTotal_crime_per_100K=%{z}\\u003cextra\\u003e\\u003c\\u002fextra\\u003e\",\"locationmode\":\"USA-states\",\"locations\":[\"CT\",\"ME\",\"MA\",\"NH\",\"RI\",\"VT\",\"NJ\",\"NY\",\"PA\",\"IL\",\"IN\",\"MI\",\"OH\",\"WI\",\"IA\",\"KS\",\"MN\",\"MO\",\"NE\",\"ND\",\"SD\",\"DE\",\"DC\",\"FL\",\"GA\",\"MD\",\"NC\",\"SC\",\"VA\",\"WV\",\"AL\",\"KY\",\"MS\",\"TN\",\"AR\",\"LA\",\"OK\",\"TX\",\"AZ\",\"CO\",\"ID\",\"MT\",\"NV\",\"NM\",\"UT\",\"WY\",\"AK\",\"CA\",\"HI\",\"OR\",\"WA\",\"PR\"],\"name\":\"\",\"z\":[2973.878568697152,2517.4431647509286,2928.4815545569154,2221.4200000153946,3133.4844561984455,2458.3368880919074,2789.3076539930266,2632.9297645259953,2828.7532400535692,3719.716841136764,3729.569100769818,3558.339962585878,4001.033000199211,2875.5710195614347,3192.5860102461847,4393.354493932576,3311.458387700219,4390.200453786871,3828.1654101609884,2051.050749008342,2102.7197545875338,3898.5915628700745,6222.225429823596,4894.299421987262,4674.4446060378805,4341.3160731997295,4608.318888379418,5326.864054625513,2953.698619443703,2837.773123801411,4456.293677319559,2785.2630536948,3776.517115467352,5024.419264052149,4535.454545454545,5059.084448990778,4742.580343778683,5038.620168106791,5577.730819761183,4290.540635978669,3028.4415900913173,3229.836447589868,4826.357603289985,4885.74392303545,4271.849392822266,3568.3858252930004,4003.1622716665024,3951.697724331412,5050.058472860036,4934.032009574082,5190.343361399287,1800.155939233505],\"type\":\"choropleth\"}],\"name\":\"2004\"},{\"data\":[{\"coloraxis\":\"coloraxis\",\"geo\":\"geo\",\"hovertemplate\":\"Year=2005\\u003cbr\\u003eState=%{location}\\u003cbr\\u003eTotal_crime_per_100K=%{z}\\u003cextra\\u003e\\u003c\\u002fextra\\u003e\",\"locationmode\":\"USA-states\",\"locations\":[\"CT\",\"ME\",\"MA\",\"NH\",\"RI\",\"VT\",\"NJ\",\"NY\",\"PA\",\"IL\",\"IN\",\"MI\",\"OH\",\"WI\",\"IA\",\"KS\",\"MN\",\"MO\",\"NE\",\"ND\",\"SD\",\"DE\",\"DC\",\"FL\",\"GA\",\"MD\",\"NC\",\"SC\",\"VA\",\"WV\",\"AL\",\"KY\",\"MS\",\"TN\",\"AR\",\"LA\",\"OK\",\"TX\",\"AZ\",\"CO\",\"ID\",\"MT\",\"NV\",\"NM\",\"UT\",\"WY\",\"AK\",\"CA\",\"HI\",\"OR\",\"WA\",\"PR\"],\"name\":\"\",\"z\":[2832.4953700498845,2525.302590606922,2820.5227182901394,1928.4089347603708,2970.017348253885,2400.4494021346604,2687.6808414846423,2554.3414752711424,2841.6404818942115,3631.7991540009293,3779.9907620775793,3643.1686635325455,4014.046703597213,2901.7371298477055,3125.002106977839,4174.42863248159,3381.0792123361935,4452.968893041924,3710.227560244646,2076.406089744093,1952.1015345397088,3743.4619524755662,6205.9394646162455,4715.915759670787,4621.168232704802,4247.062882071742,4543.291549400558,5100.4880515844225,2920.978161114719,2898.0282421942084,4323.810919635053,2797.2842319401066,3538.476074668069,5028.359242449931,4585.352233089638,4277.540062976001,4550.599737759183,4861.704093374059,5351.193374563837,4435.994604277608,2954.7350213001787,3424.391078051022,4848.337776062434,4850.486210215393,4096.153807218621,3385.470867514638,4244.486266331757,3848.95201494669,5047.702545651878,4686.634866368438,5238.845827265326,1662.6815478518447],\"type\":\"choropleth\"}],\"name\":\"2005\"},{\"data\":[{\"coloraxis\":\"coloraxis\",\"geo\":\"geo\",\"hovertemplate\":\"Year=2006\\u003cbr\\u003eState=%{location}\\u003cbr\\u003eTotal_crime_per_100K=%{z}\\u003cextra\\u003e\\u003c\\u002fextra\\u003e\",\"locationmode\":\"USA-states\",\"locations\":[\"CT\",\"ME\",\"MA\",\"NH\",\"RI\",\"VT\",\"NJ\",\"NY\",\"PA\",\"IL\",\"IN\",\"MI\",\"OH\",\"WI\",\"IA\",\"KS\",\"MN\",\"MO\",\"NE\",\"ND\",\"SD\",\"DE\",\"DC\",\"FL\",\"GA\",\"MD\",\"NC\",\"SC\",\"VA\",\"WV\",\"AL\",\"KY\",\"MS\",\"TN\",\"AR\",\"LA\",\"OK\",\"TX\",\"AZ\",\"CO\",\"ID\",\"MT\",\"NV\",\"NM\",\"UT\",\"WY\",\"AK\",\"CA\",\"HI\",\"OR\",\"WA\",\"PR\"],\"name\":\"\",\"z\":[2784.8878498086488,2634.131724746401,2838.0071872942135,2012.7842907608592,2814.417249744757,2441.2253088596394,2643.445629349789,2487.6486460322067,2882.918786771175,3561.2302709560577,3817.252499398117,3775.1830170698386,4028.9576429913004,3101.841336984069,3086.22993643709,4175.212322386332,3397.3402106906756,4372.112749676392,3622.5118487432496,2128.11798693752,1790.9783494198246,4099.4708697139695,6162.19283613915,4698.088788609415,4360.226105653592,4159.497069569086,4596.440695285556,5007.811398972844,2760.3977765461314,2901.2851463043107,4361.31097209629,2807.5112325650953,3507.3903811663818,4888.452231344523,4519.131429677339,4691.391885008704,4101.601134551404,4597.787890078788,5129.2521728525835,3842.952073862435,2666.0029390404816,2941.2511962330304,4830.398685008268,4580.3768445599335,3740.8095407838946,3220.1691637346507,4292.943990997727,3703.3098412622303,4511.636735335255,3952.379485499998,4825.871611329813,1581.7093439137059],\"type\":\"choropleth\"}],\"name\":\"2006\"},{\"data\":[{\"coloraxis\":\"coloraxis\",\"geo\":\"geo\",\"hovertemplate\":\"Year=2007\\u003cbr\\u003eState=%{location}\\u003cbr\\u003eTotal_crime_per_100K=%{z}\\u003cextra\\u003e\\u003c\\u002fextra\\u003e\",\"locationmode\":\"USA-states\",\"locations\":[\"CT\",\"ME\",\"MA\",\"NH\",\"RI\",\"VT\",\"NJ\",\"NY\",\"PA\",\"IL\",\"IN\",\"MI\",\"OH\",\"WI\",\"IA\",\"KS\",\"MN\",\"MO\",\"NE\",\"ND\",\"SD\",\"DE\",\"DC\",\"FL\",\"GA\",\"MD\",\"NC\",\"SC\",\"VA\",\"WV\",\"AL\",\"KY\",\"MS\",\"TN\",\"AR\",\"LA\",\"OK\",\"TX\",\"AZ\",\"CO\",\"ID\",\"MT\",\"NV\",\"NM\",\"UT\",\"WY\",\"AK\",\"CA\",\"HI\",\"OR\",\"WA\",\"PR\"],\"name\":\"\",\"z\":[2655.876451792232,2546.7523327768527,2823.021959748859,2029.3685800879748,2849.8854260411863,2446.98625682893,2542.355904728572,2392.6701426888108,2777.8072696784443,3468.9619521358727,3730.184708687027,3601.761429064175,3798.4839342606215,3128.6373276397626,2910.2296283256687,4131.344522346385,3325.2135929110646,4243.337702424888,3463.879439030616,2031.9986243874223,1821.4952261577919,4059.257785939286,6328.149966343243,4811.875004896927,4394.216715995704,4073.40668353522,4553.741781289373,5059.952914314443,2736.0543333837736,2800.16666344745,4419.54591882928,2813.3144279559415,3492.0694741133725,4841.929605687705,4482.437366767355,4805.455319616772,4026.023714820602,4631.77041194961,4896.766005311768,3353.8310588365975,2485.924388522891,3052.9481835047045,4528.487375369438,4389.986369970278,3735.034948380731,3105.215844538378,4040.6567585203907,3555.5969563826325,4498.172025918896,3813.7882909868167,4363.8914208468705,1595.3229502070171],\"type\":\"choropleth\"}],\"name\":\"2007\"},{\"data\":[{\"coloraxis\":\"coloraxis\",\"geo\":\"geo\",\"hovertemplate\":\"Year=2008\\u003cbr\\u003eState=%{location}\\u003cbr\\u003eTotal_crime_per_100K=%{z}\\u003cextra\\u003e\\u003c\\u002fextra\\u003e\",\"locationmode\":\"USA-states\",\"locations\":[\"CT\",\"ME\",\"MA\",\"NH\",\"RI\",\"VT\",\"NJ\",\"NY\",\"PA\",\"IL\",\"IN\",\"MI\",\"OH\",\"WI\",\"IA\",\"KS\",\"MN\",\"MO\",\"NE\",\"ND\",\"SD\",\"DE\",\"DC\",\"FL\",\"GA\",\"MD\",\"NC\",\"SC\",\"VA\",\"WV\",\"AL\",\"KY\",\"MS\",\"TN\",\"AR\",\"LA\",\"OK\",\"TX\",\"AZ\",\"CO\",\"ID\",\"MT\",\"NV\",\"NM\",\"UT\",\"WY\",\"AK\",\"CA\",\"HI\",\"OR\",\"WA\",\"PR\"],\"name\":\"\",\"z\":[2796.1433450606523,2576.7395549412704,2842.0310242305645,2283.201399227762,3089.7900526055,2698.1767944236285,2625.736460451199,2394.3705163436894,2795.978917695232,3496.7578331277987,3670.4392351716233,3459.6699260563823,3756.6646009844485,3036.7242932612603,2736.384626920558,3816.971267706331,3115.8381108587273,4134.858096463681,3191.449362467725,2206.0394031377205,1981.4003669213905,4288.008253719709,6561.888847839424,4804.449964334327,4480.99875456777,4125.786074606068,4496.636471365074,4946.416833952141,2780.323430771694,2830.8316890493165,4519.564447743478,2964.273445631471,3244.56195675686,4752.296947530757,4331.737200132228,4509.096120802073,3983.0681732424996,4499.230382784273,4568.991766441614,3206.2648562483523,2352.200253223228,3020.655244903335,4159.001625523937,4467.568602797616,3609.9969824110863,2968.7737461560546,3571.4441416893737,3460.7057429789324,3841.1440634852083,3565.564919398434,4106.320474962737,1738.1989822869994],\"type\":\"choropleth\"}],\"name\":\"2008\"},{\"data\":[{\"coloraxis\":\"coloraxis\",\"geo\":\"geo\",\"hovertemplate\":\"Year=2009\\u003cbr\\u003eState=%{location}\\u003cbr\\u003eTotal_crime_per_100K=%{z}\\u003cextra\\u003e\\u003c\\u002fextra\\u003e\",\"locationmode\":\"USA-states\",\"locations\":[\"CT\",\"ME\",\"MA\",\"NH\",\"RI\",\"VT\",\"NJ\",\"NY\",\"PA\",\"IL\",\"IN\",\"MI\",\"OH\",\"WI\",\"IA\",\"KS\",\"MN\",\"MO\",\"NE\",\"ND\",\"SD\",\"DE\",\"DC\",\"FL\",\"GA\",\"MD\",\"NC\",\"SC\",\"VA\",\"WV\",\"AL\",\"KY\",\"MS\",\"TN\",\"AR\",\"LA\",\"OK\",\"TX\",\"AZ\",\"CO\",\"ID\",\"MT\",\"NV\",\"NM\",\"UT\",\"WY\",\"AK\",\"CA\",\"HI\",\"OR\",\"WA\",\"PR\"],\"name\":\"\",\"z\":[2634.4915481620606,2523.2477256711477,2761.0161206639114,2320.5933978823396,2863.3443124773903,2532.8100874935667,2391.18329109313,2320.6616212213085,2582.173871202855,3234.072599868835,3449.4800262738645,3334.7452743690974,3603.0303279707555,2865.171976811098,2587.823353245634,3607.915148113683,2884.899854050747,3877.058845142779,3043.104854173311,2133.435573337621,1905.012783379268,3986.2301468046217,6091.315535381059,4453.297985340249,4092.698793422992,3790.6102979957113,4072.3987206322995,4559.394129932155,2655.6246106926787,2823.258014580907,4222.134819147843,2771.3692246818755,3234.5911037819833,4421.772056845229,4291.370329993598,4414.551312132742,4074.8837146228016,4506.494190894777,3964.824164791477,3004.0113454445873,2217.0382862994657,2717.671686552361,3757.8057459370393,4354.842160731782,3488.1123562256603,2865.489554816543,3578.9500811054972,3203.516486703629,3935.984088673526,3221.7995497244,3997.8421999956486,1674.4183936230493],\"type\":\"choropleth\"}],\"name\":\"2009\"},{\"data\":[{\"coloraxis\":\"coloraxis\",\"geo\":\"geo\",\"hovertemplate\":\"Year=2010\\u003cbr\\u003eState=%{location}\\u003cbr\\u003eTotal_crime_per_100K=%{z}\\u003cextra\\u003e\\u003c\\u002fextra\\u003e\",\"locationmode\":\"USA-states\",\"locations\":[\"CT\",\"ME\",\"MA\",\"NH\",\"RI\",\"VT\",\"NJ\",\"NY\",\"PA\",\"IL\",\"IN\",\"MI\",\"OH\",\"WI\",\"IA\",\"KS\",\"MN\",\"MO\",\"NE\",\"ND\",\"SD\",\"DE\",\"DC\",\"FL\",\"GA\",\"MD\",\"NC\",\"SC\",\"VA\",\"WV\",\"AL\",\"KY\",\"MS\",\"TN\",\"AR\",\"LA\",\"OK\",\"TX\",\"AZ\",\"CO\",\"ID\",\"MT\",\"NV\",\"NM\",\"UT\",\"WY\",\"AK\",\"CA\",\"HI\",\"OR\",\"WA\",\"PR\"],\"name\":\"\",\"z\":[2470.7607164092947,2600.6890270224253,2825.62673652796,2387.1379784584988,2818.737363756594,2393.319156618614,2387.57633449638,2352.1379458408433,2539.59003035292,3163.032491874306,3393.4652179714053,3241.7673815191297,3580.717159208623,2757.50883881132,2522.1608273812685,3487.443615097251,2804.661870525272,3807.6859890771993,2946.2210835121446,2009.6971817102437,2128.832056899478,4077.1645002400555,6088.158277567646,4092.679222191145,4041.501800269497,3541.7784008485773,3806.193446729442,4507.574336234712,2549.703369399098,2528.462527394778,3911.7098023760186,2801.1905531416264,3252.278059252436,4274.742207393043,4057.07444033861,4200.079069940376,3924.3824238388333,4215.171889672491,3950.1599679908086,2998.201950515206,2221.3707321357874,2839.8781784899056,3436.5116372805655,4013.866992462897,3395.4859683679824,2654.484779135388,3472.1191465050565,3069.435755844457,3613.8683941647064,3290.6220722959874,4012.5464373901636,1646.4901189636264],\"type\":\"choropleth\"}],\"name\":\"2010\"},{\"data\":[{\"coloraxis\":\"coloraxis\",\"geo\":\"geo\",\"hovertemplate\":\"Year=2011\\u003cbr\\u003eState=%{location}\\u003cbr\\u003eTotal_crime_per_100K=%{z}\\u003cextra\\u003e\\u003c\\u002fextra\\u003e\",\"locationmode\":\"USA-states\",\"locations\":[\"CT\",\"ME\",\"MA\",\"NH\",\"RI\",\"VT\",\"NJ\",\"NY\",\"PA\",\"IL\",\"IN\",\"MI\",\"OH\",\"WI\",\"IA\",\"KS\",\"MN\",\"MO\",\"NE\",\"ND\",\"SD\",\"DE\",\"DC\",\"FL\",\"GA\",\"MD\",\"NC\",\"SC\",\"VA\",\"WV\",\"AL\",\"KY\",\"MS\",\"TN\",\"AR\",\"LA\",\"OK\",\"TX\",\"AZ\",\"CO\",\"ID\",\"MT\",\"NV\",\"NM\",\"UT\",\"WY\",\"AK\",\"CA\",\"HI\",\"OR\",\"WA\",\"PR\"],\"name\":\"\",\"z\":[2440.1871249520696,2668.6734106918598,2687.028958930927,2471.8668117136026,2924.2786563708623,2444.163842466289,2459.111080124995,2310.5083395765273,2577.273311555954,3118.0665674793813,3493.6891986738524,3057.475521676534,3662.042394116701,2669.5941903792645,2585.859232363553,3434.058757929506,2770.6800981353863,3756.1590287168456,3006.065750192251,2183.6966248106537,2071.7598491412264,3970.0816306282973,5997.611635026764,4037.2415288393436,3999.771782773878,3354.2605728713866,3876.5581503916414,4476.056958089259,2446.2601851344093,2589.7883110807365,4026.1184240662624,2946.9789140550693,3295.3031580869906,4204.125557344722,4235.02005970771,4243.867976906713,3811.0166192449024,3880.757077371283,3960.398025146143,2926.518860630754,2269.4852001753957,2587.159474213058,3122.656813994085,4099.030651841493,3168.0854401960514,2485.7522027323384,3239.299422457999,2994.926338573644,3625.082738705712,3362.2092126805237,3869.187843464414,1679.5847508154175],\"type\":\"choropleth\"}],\"name\":\"2011\"},{\"data\":[{\"coloraxis\":\"coloraxis\",\"geo\":\"geo\",\"hovertemplate\":\"Year=2012\\u003cbr\\u003eState=%{location}\\u003cbr\\u003eTotal_crime_per_100K=%{z}\\u003cextra\\u003e\\u003c\\u002fextra\\u003e\",\"locationmode\":\"USA-states\",\"locations\":[\"CT\",\"ME\",\"MA\",\"NH\",\"RI\",\"VT\",\"NJ\",\"NY\",\"PA\",\"IL\",\"IN\",\"MI\",\"OH\",\"WI\",\"IA\",\"KS\",\"MN\",\"MO\",\"NE\",\"ND\",\"SD\",\"DE\",\"DC\",\"FL\",\"GA\",\"MD\",\"NC\",\"SC\",\"VA\",\"WV\",\"AL\",\"KY\",\"MS\",\"TN\",\"AR\",\"LA\",\"OK\",\"TX\",\"AZ\",\"CO\",\"ID\",\"MT\",\"NV\",\"NM\",\"UT\",\"WY\",\"AK\",\"CA\",\"HI\",\"OR\",\"WA\",\"PR\"],\"name\":\"\",\"z\":[2432.0076619712036,2636.3548089162146,2563.7958118689244,2641.839504183133,2827.3718847114737,2643.0099384458576,2336.6471017616755,2323.253452866694,2522.2032241827415,3001.680422548871,3373.2847011417634,2977.0850933856036,3507.841362149898,2743.1656684520754,2553.5936292190113,3512.7909563949233,2798.9016377657567,3767.966985596534,3018.567925189317,2284.1825349863475,2401.1836263424,3898.902244472239,6097.466637828827,3763.1822658635024,3803.564588731788,3235.3317015776734,3724.2967127612387,4393.493100439788,2371.061687424908,2716.83865825021,3955.7839622312526,2800.4466028727797,3070.6022200271227,4014.5848573660314,4177.870709749856,4030.9995319562618,3906.6979752501447,3771.6959988482317,3965.380729395714,2992.7210124833846,2204.3883453769454,2874.7063632403574,3422.6900391162503,4163.7789531278495,3230.3736315931615,2494.337750985908,3347.770184319745,3185.2970685853256,3366.472674431152,3488.767760201097,3987.1982698985025,1690.2434448979816],\"type\":\"choropleth\"}],\"name\":\"2012\"},{\"data\":[{\"coloraxis\":\"coloraxis\",\"geo\":\"geo\",\"hovertemplate\":\"Year=2013\\u003cbr\\u003eState=%{location}\\u003cbr\\u003eTotal_crime_per_100K=%{z}\\u003cextra\\u003e\\u003c\\u002fextra\\u003e\",\"locationmode\":\"USA-states\",\"locations\":[\"CT\",\"ME\",\"MA\",\"NH\",\"RI\",\"VT\",\"NJ\",\"NY\",\"PA\",\"IL\",\"IN\",\"MI\",\"OH\",\"WI\",\"IA\",\"KS\",\"MN\",\"MO\",\"NE\",\"ND\",\"SD\",\"DE\",\"DC\",\"FL\",\"GA\",\"MD\",\"NC\",\"SC\",\"VA\",\"WV\",\"AL\",\"KY\",\"MS\",\"TN\",\"AR\",\"LA\",\"OK\",\"TX\",\"AZ\",\"CO\",\"ID\",\"MT\",\"NV\",\"NM\",\"UT\",\"WY\",\"AK\",\"CA\",\"HI\",\"OR\",\"WA\",\"PR\"],\"name\":\"\",\"z\":[2228.6211652688485,2413.7583170092344,2455.2117312512623,2393.8784654454726,2686.6100307081906,2329.125640330019,2168.3745275913193,2214.6007198467546,2387.3316955540486,2646.8438655548944,3203.928471311853,2757.4820461007907,3203.190304428178,2459.7781571184214,2454.7504284212873,3274.3402890920634,2643.633841169807,3559.048875354453,2875.5440146083843,2350.313038694043,2213.458290378363,3544.5893001234676,6090.194276733354,3565.309627338405,3706.323162933526,3131.2670628560786,3464.6519212921125,4118.9661054540275,2253.860434203892,2393.566534937098,3769.4141284914604,2561.6938112231373,2992.0697564561733,3760.542292476976,4048.289958717607,4092.4489835627514,3701.8174980937883,3657.981473441305,3804.8786229609527,2949.661631393561,2068.9941791511387,2797.27926002177,3428.9726378929204,4301.518208284999,3159.6016646029193,2396.0882713358437,3487.808992126584,3054.289072195382,3298.947191489786,3416.8137168214776,3988.2772571271844,1609.1180126835156],\"type\":\"choropleth\"}],\"name\":\"2013\"},{\"data\":[{\"coloraxis\":\"coloraxis\",\"geo\":\"geo\",\"hovertemplate\":\"Year=2014\\u003cbr\\u003eState=%{location}\\u003cbr\\u003eTotal_crime_per_100K=%{z}\\u003cextra\\u003e\\u003c\\u002fextra\\u003e\",\"locationmode\":\"USA-states\",\"locations\":[\"CT\",\"ME\",\"MA\",\"NH\",\"RI\",\"VT\",\"NJ\",\"NY\",\"PA\",\"IL\",\"IN\",\"MI\",\"OH\",\"WI\",\"IA\",\"KS\",\"MN\",\"MO\",\"NE\",\"ND\",\"SD\",\"DE\",\"DC\",\"FL\",\"GA\",\"MD\",\"NC\",\"SC\",\"VA\",\"WV\",\"AL\",\"KY\",\"MS\",\"TN\",\"AR\",\"LA\",\"OK\",\"TX\",\"AZ\",\"CO\",\"ID\",\"MT\",\"NV\",\"NM\",\"UT\",\"WY\",\"AK\",\"CA\",\"HI\",\"OR\",\"WA\",\"PR\"],\"name\":\"\",\"z\":[2167.069753157511,2114.254699847247,2252.660350868467,2162.88302073199,2398.505271080768,1653.565040916321,1994.2623453323495,2101.8177354862746,2245.468437872911,2464.0377501059793,3016.3325189303227,2473.168940127503,3066.7160587593444,2383.8809104786724,2366.4399300076125,3109.8633009326077,2526.6417756602605,3352.9650499593736,2800.189062018715,2413.112804713259,2207.5368215782414,3470.524633320797,6417.655296164501,3391.6086498205595,3744.6375861977435,2964.7990258639416,3201.243573313595,3982.452434791972,2142.8182041085493,2387.1251455712536,3607.08161152655,2479.345023599374,3180.885689154596,3679.110122684348,3832.366815141388,3983.123216010359,3440.9902026234595,3422.0072309365055,3564.210645520891,2843.310575794852,2072.3559859702004,2822.9605219437635,3263.137088963355,4139.977281957376,3122.331888152072,2159.6634628549523,3394.360731894617,2838.0793493222664,3477.1171696390156,3360.0909749743278,3984.6437135981228,1527.7711769085754],\"type\":\"choropleth\"}],\"name\":\"2014\"},{\"data\":[{\"coloraxis\":\"coloraxis\",\"geo\":\"geo\",\"hovertemplate\":\"Year=2015\\u003cbr\\u003eState=%{location}\\u003cbr\\u003eTotal_crime_per_100K=%{z}\\u003cextra\\u003e\\u003c\\u002fextra\\u003e\",\"locationmode\":\"USA-states\",\"locations\":[\"CT\",\"ME\",\"MA\",\"NH\",\"RI\",\"VT\",\"NJ\",\"NY\",\"PA\",\"IL\",\"IN\",\"MI\",\"OH\",\"WI\",\"IA\",\"KS\",\"MN\",\"MO\",\"NE\",\"ND\",\"SD\",\"DE\",\"DC\",\"FL\",\"GA\",\"MD\",\"NC\",\"SC\",\"VA\",\"WV\",\"AL\",\"KY\",\"MS\",\"TN\",\"AR\",\"LA\",\"OK\",\"TX\",\"AZ\",\"CO\",\"ID\",\"MT\",\"NV\",\"NM\",\"UT\",\"WY\",\"AK\",\"CA\",\"HI\",\"OR\",\"WA\",\"PR\"],\"name\":\"\",\"z\":[2030.4459679310344,1960.088104666418,2081.604586821366,1945.0506835972728,2140.0210925325996,1524.658090032298,1881.8905487187837,1983.7247220886497,2127.896396509339,2372.3415133520657,2983.5279046721294,2301.136317827145,2879.6247239078434,2279.731715545289,2333.398102819586,3109.998794494239,2464.7177915160937,3351.6435468578843,2515.9398583475286,2355.841448382737,2326.117774782782,3189.968856178126,5945.304271764937,3275.0584176464113,3400.5948197038433,2772.209181504865,3097.0938190357633,3797.782990948391,2062.139381483439,2357.862360964098,3451.3011889946424,2396.289161897651,3109.4132905662573,3548.26349533559,3772.8107275391476,3893.1223510530704,3307.921739312737,3243.519248564042,3443.420646991498,2962.499912949041,1959.357797610775,2973.1380736125407,3364.2412512604446,4353.489433885711,3216.0081764560387,2124.697367545516,3547.787744843127,3044.5843431945445,4089.6114355725713,3206.4466985043596,3748.254443889846,1305.2281083719852],\"type\":\"choropleth\"}],\"name\":\"2015\"},{\"data\":[{\"coloraxis\":\"coloraxis\",\"geo\":\"geo\",\"hovertemplate\":\"Year=2016\\u003cbr\\u003eState=%{location}\\u003cbr\\u003eTotal_crime_per_100K=%{z}\\u003cextra\\u003e\\u003c\\u002fextra\\u003e\",\"locationmode\":\"USA-states\",\"locations\":[\"CT\",\"ME\",\"MA\",\"NH\",\"RI\",\"VT\",\"NJ\",\"NY\",\"PA\",\"IL\",\"IN\",\"MI\",\"OH\",\"WI\",\"IA\",\"KS\",\"MN\",\"MO\",\"NE\",\"ND\",\"SD\",\"DE\",\"DC\",\"FL\",\"GA\",\"MD\",\"NC\",\"SC\",\"VA\",\"WV\",\"AL\",\"KY\",\"MS\",\"TN\",\"AR\",\"LA\",\"OK\",\"TX\",\"AZ\",\"CO\",\"ID\",\"MT\",\"NV\",\"NM\",\"UT\",\"WY\",\"AK\",\"CA\",\"HI\",\"OR\",\"WA\",\"PR\"],\"name\":\"\",\"z\":[2035.9646958972148,1770.894099675846,1940.363622721386,1722.1529346112213,2027.2020847871436,1693.419790359892,1780.6370299616324,1913.3571677682003,2055.065716697746,2487.666065791682,2939.038201195748,2376.1242952470166,2896.9880458288253,2245.4332878854834,2397.3535781918695,3231.316789620498,2372.6120125609723,3322.527538196237,2561.224741206635,2561.849147903244,2419.266849439726,3277.9537691902365,5934.657828902761,3110.4457759216684,3370.0388418421467,2800.6961946317456,3106.6423319646788,3763.663292755264,2089.1259962112476,2401.5154456570663,3479.7949612646316,2438.2832448136464,3045.874694138001,3513.9690715137776,3836.885434894424,3862.183874761345,3464.877013633812,3192.8342809937567,3471.869001172734,3095.3480991771403,1978.1241480786607,3084.9482408035,3260.895451703051,4628.057879614392,3218.024643261995,2203.928809560445,4159.283204004736,2994.838519362398,3206.099603620957,3247.6592570366684,3805.761733316083,1257.7058112090933],\"type\":\"choropleth\"}],\"name\":\"2016\"},{\"data\":[{\"coloraxis\":\"coloraxis\",\"geo\":\"geo\",\"hovertemplate\":\"Year=2017\\u003cbr\\u003eState=%{location}\\u003cbr\\u003eTotal_crime_per_100K=%{z}\\u003cextra\\u003e\\u003c\\u002fextra\\u003e\",\"locationmode\":\"USA-states\",\"locations\":[\"CT\",\"ME\",\"MA\",\"NH\",\"RI\",\"VT\",\"NJ\",\"NY\",\"PA\",\"IL\",\"IN\",\"MI\",\"OH\",\"WI\",\"IA\",\"KS\",\"MN\",\"MO\",\"NE\",\"ND\",\"SD\",\"DE\",\"DC\",\"FL\",\"GA\",\"MD\",\"NC\",\"SC\",\"VA\",\"WV\",\"AL\",\"KY\",\"MS\",\"TN\",\"AR\",\"LA\",\"OK\",\"TX\",\"AZ\",\"CO\",\"ID\",\"MT\",\"NV\",\"NM\",\"UT\",\"WY\",\"AK\",\"CA\",\"HI\",\"OR\",\"WA\",\"PR\"],\"name\":\"\",\"z\":[1997.9187243463548,1628.1073457957775,1795.0182067486035,1580.5093108032127,1983.7888186448401,1602.483416365085,1784.3254741137891,1870.8576516598814,1962.744709573679,2450.2143137846256,2815.8860793859976,2249.9197224419113,2716.5933774775363,2128.226413570707,2418.6900831004505,3213.836147666954,2429.8471148938975,3364.225459194456,2579.897879042288,2479.1069019702327,2309.852288119807,2893.9464976469403,5288.830096891517,2920.479022511961,3217.411122944137,2722.474904484783,2908.9634132512265,3702.096721001184,2001.0224296991032,2202.706490654275,3481.4319594432286,2354.839455622561,3019.5703897322473,3592.0722860566666,3633.4841071684755,3923.8030259590855,3332.6006699799336,3001.5125458777084,3422.887089578936,3069.6677851187965,1861.8556352773505,2968.701362122356,3168.3710585486047,4725.176837941257,3019.1180505204507,2067.959572943908,4371.075770990612,2945.977748799323,3080.058114039696,3268.243322834737,3478.0439990963773,1166.7945691822758],\"type\":\"choropleth\"}],\"name\":\"2017\"},{\"data\":[{\"coloraxis\":\"coloraxis\",\"geo\":\"geo\",\"hovertemplate\":\"Year=2018\\u003cbr\\u003eState=%{location}\\u003cbr\\u003eTotal_crime_per_100K=%{z}\\u003cextra\\u003e\\u003c\\u002fextra\\u003e\",\"locationmode\":\"USA-states\",\"locations\":[\"CT\",\"ME\",\"MA\",\"NH\",\"RI\",\"VT\",\"NJ\",\"NY\",\"PA\",\"IL\",\"IN\",\"MI\",\"OH\",\"WI\",\"IA\",\"KS\",\"MN\",\"MO\",\"NE\",\"ND\",\"SD\",\"DE\",\"DC\",\"FL\",\"GA\",\"MD\",\"NC\",\"SC\",\"VA\",\"WV\",\"AL\",\"KY\",\"MS\",\"TN\",\"AR\",\"LA\",\"OK\",\"TX\",\"AZ\",\"CO\",\"ID\",\"MT\",\"NV\",\"NM\",\"UT\",\"WY\",\"AK\",\"CA\",\"HI\",\"OR\",\"WA\",\"PR\"],\"name\":\"\",\"z\":[1871.5000895977064,1471.2592518466354,1613.9458216220967,1448.5043942769114,1885.2163921507115,1500.1009036482276,1617.0447416026852,1792.364100368703,1794.6519789746394,2350.2344677633255,2568.248481031356,2116.9919447696293,2503.130047332465,1870.0776215749338,2074.7832858733577,3101.987765850931,2222.3236962896226,3159.1948736470704,2377.215786756847,2344.7393414943012,2125.1897694088298,2743.0943604159183,5376.831488125528,2673.6420850809186,2981.8104255384123,2506.294938104332,2699.9941723903266,3575.6770641970857,1885.4559180811,1845.5448705336335,3360.8780933125545,2218.126121206782,2671.2333362406152,3478.9846050382844,3524.598361382887,3826.64941229996,3377.8695940724347,2792.096565030309,3168.2346971734096,3112.5297318515127,1714.7890703190337,2906.384202363611,2996.457947750187,4222.166049214881,2658.7496630781184,1998.4383683546257,4203.286725367584,2833.7633042035714,3142.983247136935,3217.376083422647,3282.553165133523,979.1585899965992],\"type\":\"choropleth\"}],\"name\":\"2018\"},{\"data\":[{\"coloraxis\":\"coloraxis\",\"geo\":\"geo\",\"hovertemplate\":\"Year=2019\\u003cbr\\u003eState=%{location}\\u003cbr\\u003eTotal_crime_per_100K=%{z}\\u003cextra\\u003e\\u003c\\u002fextra\\u003e\",\"locationmode\":\"USA-states\",\"locations\":[\"CT\",\"ME\",\"MA\",\"NH\",\"RI\",\"VT\",\"NJ\",\"NY\",\"PA\",\"IL\",\"IN\",\"MI\",\"OH\",\"WI\",\"IA\",\"KS\",\"MN\",\"MO\",\"NE\",\"ND\",\"SD\",\"DE\",\"DC\",\"FL\",\"GA\",\"MD\",\"NC\",\"SC\",\"VA\",\"WV\",\"AL\",\"KY\",\"MS\",\"TN\",\"AR\",\"LA\",\"OK\",\"TX\",\"AZ\",\"CO\",\"ID\",\"MT\",\"NV\",\"NM\",\"UT\",\"WY\",\"AK\",\"CA\",\"HI\",\"OR\",\"WA\",\"PR\"],\"name\":\"\",\"z\":[1610.1929522083356,1360.722862167575,1507.3624197189324,1361.7599622272674,1755.8698120848321,1626.6312386917077,1542.5475023614672,1731.91427523218,1709.8358700355077,2253.385681505444,2341.8727168560617,2022.4781430233754,2348.854916118435,1764.5884865332953,2000.2408821357371,2725.2812432851388,2315.186522808581,3133.6579427082484,2340.2508674488527,2261.627006726487,2169.9886622981285,2674.7754075936264,5416.089856308688,2524.0834264801733,2716.4689586164177,2404.3118391975763,2729.106670007601,3451.580336371374,1850.6900400549748,1899.9557513976256,3185.256114138055,2114.5236009887026,2653.731382400545,3247.830557546198,3442.6689075897575,3711.2851203989685,3277.0773402180607,2809.633547606296,2895.826283670597,2971.606963750379,1443.3162755691596,2598.1073712220873,2815.928803606051,3944.956884896193,2404.8661897629354,1788.4819069768248,3777.8947296475267,2772.4205747674587,3126.695068480766,3015.0054401210887,2975.760788759606,905.5344688627025],\"type\":\"choropleth\"}],\"name\":\"2019\"}]);\n",
              "                        }).then(function(){\n",
              "                            \n",
              "var gd = document.getElementById('a8693a76-bce6-4368-8b14-0764825efa3a');\n",
              "var x = new MutationObserver(function (mutations, observer) {{\n",
              "        var display = window.getComputedStyle(gd).display;\n",
              "        if (!display || display === 'none') {{\n",
              "            console.log([gd, 'removed!']);\n",
              "            Plotly.purge(gd);\n",
              "            observer.disconnect();\n",
              "        }}\n",
              "}});\n",
              "\n",
              "// Listen for the removal of the full notebook cells\n",
              "var notebookContainer = gd.closest('#notebook-container');\n",
              "if (notebookContainer) {{\n",
              "    x.observe(notebookContainer, {childList: true});\n",
              "}}\n",
              "\n",
              "// Listen for the clearing of the current output cell\n",
              "var outputEl = gd.closest('.output');\n",
              "if (outputEl) {{\n",
              "    x.observe(outputEl, {childList: true});\n",
              "}}\n",
              "\n",
              "                        })                };                            </script>        </div>\n",
              "</body>\n",
              "</html>"
            ]
          },
          "metadata": {}
        }
      ]
    }
  ]
}
